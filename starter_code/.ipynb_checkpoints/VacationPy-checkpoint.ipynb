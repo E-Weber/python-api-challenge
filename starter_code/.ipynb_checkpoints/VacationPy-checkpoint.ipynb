{
 "cells": [
  {
   "cell_type": "markdown",
   "metadata": {},
   "source": [
    "# VacationPy\n",
    "----\n",
    "\n",
    "#### Note\n",
    "* Keep an eye on your API usage. Use https://developers.google.com/maps/reporting/gmp-reporting as reference for how to monitor your usage and billing.\n",
    "\n",
    "* Instructions have been included for each segment. You do not have to follow them exactly, but they are included to help you think through the steps."
   ]
  },
  {
   "cell_type": "code",
   "execution_count": 1,
   "metadata": {},
   "outputs": [],
   "source": [
    "# Dependencies and Setup\n",
    "import matplotlib.pyplot as plt\n",
    "import pandas as pd\n",
    "import numpy as np\n",
    "import requests\n",
    "import gmaps\n",
    "import os\n",
    "import json\n",
    "\n",
    "# Import API key\n",
    "from api_keys import g_key\n",
    "gmaps.configure(api_key=g_key)"
   ]
  },
  {
   "cell_type": "markdown",
   "metadata": {},
   "source": [
    "### Store Part I results into DataFrame\n",
    "* Load the csv exported in Part I to a DataFrame"
   ]
  },
  {
   "cell_type": "code",
   "execution_count": 2,
   "metadata": {},
   "outputs": [
    {
     "data": {
      "text/html": [
       "<div>\n",
       "<style scoped>\n",
       "    .dataframe tbody tr th:only-of-type {\n",
       "        vertical-align: middle;\n",
       "    }\n",
       "\n",
       "    .dataframe tbody tr th {\n",
       "        vertical-align: top;\n",
       "    }\n",
       "\n",
       "    .dataframe thead th {\n",
       "        text-align: right;\n",
       "    }\n",
       "</style>\n",
       "<table border=\"1\" class=\"dataframe\">\n",
       "  <thead>\n",
       "    <tr style=\"text-align: right;\">\n",
       "      <th></th>\n",
       "      <th>City</th>\n",
       "      <th>Lat</th>\n",
       "      <th>Lng</th>\n",
       "      <th>Max Temp</th>\n",
       "      <th>Humidty</th>\n",
       "      <th>Cloudiness</th>\n",
       "      <th>Wind Speed</th>\n",
       "      <th>Country</th>\n",
       "      <th>Date</th>\n",
       "    </tr>\n",
       "  </thead>\n",
       "  <tbody>\n",
       "    <tr>\n",
       "      <th>0</th>\n",
       "      <td>paramirim</td>\n",
       "      <td>-13.4425</td>\n",
       "      <td>-42.2389</td>\n",
       "      <td>37.50</td>\n",
       "      <td>70</td>\n",
       "      <td>64</td>\n",
       "      <td>2.55</td>\n",
       "      <td>BR</td>\n",
       "      <td>1614643467</td>\n",
       "    </tr>\n",
       "    <tr>\n",
       "      <th>1</th>\n",
       "      <td>port alfred</td>\n",
       "      <td>-33.5906</td>\n",
       "      <td>26.8910</td>\n",
       "      <td>78.80</td>\n",
       "      <td>87</td>\n",
       "      <td>56</td>\n",
       "      <td>3.55</td>\n",
       "      <td>ZA</td>\n",
       "      <td>1614643467</td>\n",
       "    </tr>\n",
       "    <tr>\n",
       "      <th>2</th>\n",
       "      <td>punta arenas</td>\n",
       "      <td>-53.1500</td>\n",
       "      <td>-70.9167</td>\n",
       "      <td>22.20</td>\n",
       "      <td>57</td>\n",
       "      <td>0</td>\n",
       "      <td>4.63</td>\n",
       "      <td>CL</td>\n",
       "      <td>1614643393</td>\n",
       "    </tr>\n",
       "    <tr>\n",
       "      <th>3</th>\n",
       "      <td>nizhniy odes</td>\n",
       "      <td>63.6445</td>\n",
       "      <td>54.8560</td>\n",
       "      <td>44.60</td>\n",
       "      <td>97</td>\n",
       "      <td>100</td>\n",
       "      <td>3.95</td>\n",
       "      <td>RU</td>\n",
       "      <td>1614643468</td>\n",
       "    </tr>\n",
       "    <tr>\n",
       "      <th>4</th>\n",
       "      <td>jamestown</td>\n",
       "      <td>42.0970</td>\n",
       "      <td>-79.2353</td>\n",
       "      <td>55.99</td>\n",
       "      <td>91</td>\n",
       "      <td>75</td>\n",
       "      <td>9.24</td>\n",
       "      <td>US</td>\n",
       "      <td>1614643433</td>\n",
       "    </tr>\n",
       "    <tr>\n",
       "      <th>...</th>\n",
       "      <td>...</td>\n",
       "      <td>...</td>\n",
       "      <td>...</td>\n",
       "      <td>...</td>\n",
       "      <td>...</td>\n",
       "      <td>...</td>\n",
       "      <td>...</td>\n",
       "      <td>...</td>\n",
       "      <td>...</td>\n",
       "    </tr>\n",
       "    <tr>\n",
       "      <th>551</th>\n",
       "      <td>sobolevo</td>\n",
       "      <td>54.4299</td>\n",
       "      <td>31.8996</td>\n",
       "      <td>275.04</td>\n",
       "      <td>94</td>\n",
       "      <td>100</td>\n",
       "      <td>6.05</td>\n",
       "      <td>RU</td>\n",
       "      <td>1614643617</td>\n",
       "    </tr>\n",
       "    <tr>\n",
       "      <th>552</th>\n",
       "      <td>raton</td>\n",
       "      <td>36.9034</td>\n",
       "      <td>-104.4391</td>\n",
       "      <td>280.15</td>\n",
       "      <td>10</td>\n",
       "      <td>1</td>\n",
       "      <td>5.14</td>\n",
       "      <td>US</td>\n",
       "      <td>1614643617</td>\n",
       "    </tr>\n",
       "    <tr>\n",
       "      <th>553</th>\n",
       "      <td>lamu</td>\n",
       "      <td>-2.2717</td>\n",
       "      <td>40.9020</td>\n",
       "      <td>297.63</td>\n",
       "      <td>87</td>\n",
       "      <td>0</td>\n",
       "      <td>4.51</td>\n",
       "      <td>KE</td>\n",
       "      <td>1614643617</td>\n",
       "    </tr>\n",
       "    <tr>\n",
       "      <th>554</th>\n",
       "      <td>nanchang</td>\n",
       "      <td>28.6833</td>\n",
       "      <td>115.8833</td>\n",
       "      <td>281.50</td>\n",
       "      <td>80</td>\n",
       "      <td>82</td>\n",
       "      <td>4.77</td>\n",
       "      <td>CN</td>\n",
       "      <td>1614643618</td>\n",
       "    </tr>\n",
       "    <tr>\n",
       "      <th>555</th>\n",
       "      <td>krasnyy yar</td>\n",
       "      <td>46.5331</td>\n",
       "      <td>48.3456</td>\n",
       "      <td>273.15</td>\n",
       "      <td>93</td>\n",
       "      <td>75</td>\n",
       "      <td>4.00</td>\n",
       "      <td>RU</td>\n",
       "      <td>1614643618</td>\n",
       "    </tr>\n",
       "  </tbody>\n",
       "</table>\n",
       "<p>556 rows × 9 columns</p>\n",
       "</div>"
      ],
      "text/plain": [
       "             City      Lat       Lng  Max Temp  Humidty  Cloudiness  \\\n",
       "0       paramirim -13.4425  -42.2389     37.50       70          64   \n",
       "1     port alfred -33.5906   26.8910     78.80       87          56   \n",
       "2    punta arenas -53.1500  -70.9167     22.20       57           0   \n",
       "3    nizhniy odes  63.6445   54.8560     44.60       97         100   \n",
       "4       jamestown  42.0970  -79.2353     55.99       91          75   \n",
       "..            ...      ...       ...       ...      ...         ...   \n",
       "551      sobolevo  54.4299   31.8996    275.04       94         100   \n",
       "552         raton  36.9034 -104.4391    280.15       10           1   \n",
       "553          lamu  -2.2717   40.9020    297.63       87           0   \n",
       "554      nanchang  28.6833  115.8833    281.50       80          82   \n",
       "555   krasnyy yar  46.5331   48.3456    273.15       93          75   \n",
       "\n",
       "     Wind Speed Country        Date  \n",
       "0          2.55      BR  1614643467  \n",
       "1          3.55      ZA  1614643467  \n",
       "2          4.63      CL  1614643393  \n",
       "3          3.95      RU  1614643468  \n",
       "4          9.24      US  1614643433  \n",
       "..          ...     ...         ...  \n",
       "551        6.05      RU  1614643617  \n",
       "552        5.14      US  1614643617  \n",
       "553        4.51      KE  1614643617  \n",
       "554        4.77      CN  1614643618  \n",
       "555        4.00      RU  1614643618  \n",
       "\n",
       "[556 rows x 9 columns]"
      ]
     },
     "execution_count": 2,
     "metadata": {},
     "output_type": "execute_result"
    }
   ],
   "source": [
    "w_csv = \"../output_data/weather_df.csv\"\n",
    "weather_df = pd.read_csv(w_csv)\n",
    "city_df = weather_df.drop(columns='Unnamed: 0')\n",
    "city_df"
   ]
  },
  {
   "cell_type": "markdown",
   "metadata": {},
   "source": [
    "### Humidity Heatmap\n",
    "* Configure gmaps.\n",
    "* Use the Lat and Lng as locations and Humidity as the weight.\n",
    "* Add Heatmap layer to map."
   ]
  },
  {
   "cell_type": "code",
   "execution_count": 3,
   "metadata": {},
   "outputs": [
    {
     "data": {
      "text/html": [
       "<div>\n",
       "<style scoped>\n",
       "    .dataframe tbody tr th:only-of-type {\n",
       "        vertical-align: middle;\n",
       "    }\n",
       "\n",
       "    .dataframe tbody tr th {\n",
       "        vertical-align: top;\n",
       "    }\n",
       "\n",
       "    .dataframe thead th {\n",
       "        text-align: right;\n",
       "    }\n",
       "</style>\n",
       "<table border=\"1\" class=\"dataframe\">\n",
       "  <thead>\n",
       "    <tr style=\"text-align: right;\">\n",
       "      <th></th>\n",
       "      <th>Lat</th>\n",
       "      <th>Lng</th>\n",
       "    </tr>\n",
       "  </thead>\n",
       "  <tbody>\n",
       "    <tr>\n",
       "      <th>0</th>\n",
       "      <td>-13.4425</td>\n",
       "      <td>-42.2389</td>\n",
       "    </tr>\n",
       "    <tr>\n",
       "      <th>1</th>\n",
       "      <td>-33.5906</td>\n",
       "      <td>26.8910</td>\n",
       "    </tr>\n",
       "    <tr>\n",
       "      <th>2</th>\n",
       "      <td>-53.1500</td>\n",
       "      <td>-70.9167</td>\n",
       "    </tr>\n",
       "    <tr>\n",
       "      <th>3</th>\n",
       "      <td>63.6445</td>\n",
       "      <td>54.8560</td>\n",
       "    </tr>\n",
       "    <tr>\n",
       "      <th>4</th>\n",
       "      <td>42.0970</td>\n",
       "      <td>-79.2353</td>\n",
       "    </tr>\n",
       "    <tr>\n",
       "      <th>...</th>\n",
       "      <td>...</td>\n",
       "      <td>...</td>\n",
       "    </tr>\n",
       "    <tr>\n",
       "      <th>551</th>\n",
       "      <td>54.4299</td>\n",
       "      <td>31.8996</td>\n",
       "    </tr>\n",
       "    <tr>\n",
       "      <th>552</th>\n",
       "      <td>36.9034</td>\n",
       "      <td>-104.4391</td>\n",
       "    </tr>\n",
       "    <tr>\n",
       "      <th>553</th>\n",
       "      <td>-2.2717</td>\n",
       "      <td>40.9020</td>\n",
       "    </tr>\n",
       "    <tr>\n",
       "      <th>554</th>\n",
       "      <td>28.6833</td>\n",
       "      <td>115.8833</td>\n",
       "    </tr>\n",
       "    <tr>\n",
       "      <th>555</th>\n",
       "      <td>46.5331</td>\n",
       "      <td>48.3456</td>\n",
       "    </tr>\n",
       "  </tbody>\n",
       "</table>\n",
       "<p>556 rows × 2 columns</p>\n",
       "</div>"
      ],
      "text/plain": [
       "         Lat       Lng\n",
       "0   -13.4425  -42.2389\n",
       "1   -33.5906   26.8910\n",
       "2   -53.1500  -70.9167\n",
       "3    63.6445   54.8560\n",
       "4    42.0970  -79.2353\n",
       "..       ...       ...\n",
       "551  54.4299   31.8996\n",
       "552  36.9034 -104.4391\n",
       "553  -2.2717   40.9020\n",
       "554  28.6833  115.8833\n",
       "555  46.5331   48.3456\n",
       "\n",
       "[556 rows x 2 columns]"
      ]
     },
     "execution_count": 3,
     "metadata": {},
     "output_type": "execute_result"
    }
   ],
   "source": [
    "location = weather_df[[\"Lat\",\"Lng\"]]\n",
    "location"
   ]
  },
  {
   "cell_type": "code",
   "execution_count": 4,
   "metadata": {
    "scrolled": true
   },
   "outputs": [
    {
     "data": {
      "text/plain": [
       "0      70.0\n",
       "1      87.0\n",
       "2      57.0\n",
       "3      97.0\n",
       "4      91.0\n",
       "       ... \n",
       "551    94.0\n",
       "552    10.0\n",
       "553    87.0\n",
       "554    80.0\n",
       "555    93.0\n",
       "Name: Humidty, Length: 556, dtype: float64"
      ]
     },
     "execution_count": 4,
     "metadata": {},
     "output_type": "execute_result"
    }
   ],
   "source": [
    "humid = weather_df['Humidty'].astype(float)\n",
    "humid"
   ]
  },
  {
   "cell_type": "code",
   "execution_count": 5,
   "metadata": {},
   "outputs": [
    {
     "data": {
      "application/vnd.jupyter.widget-view+json": {
       "model_id": "2e56e7f52caa4e33930523ee6a4d8dee",
       "version_major": 2,
       "version_minor": 0
      },
      "text/plain": [
       "Figure(layout=FigureLayout(height='420px'))"
      ]
     },
     "metadata": {},
     "output_type": "display_data"
    }
   ],
   "source": [
    "fig = gmaps.figure()\n",
    "fig"
   ]
  },
  {
   "cell_type": "code",
   "execution_count": 6,
   "metadata": {},
   "outputs": [],
   "source": [
    "heat_layer = gmaps.heatmap_layer(location,weights = humid, dissipating=False, max_intensity=10,point_radius=1)"
   ]
  },
  {
   "cell_type": "code",
   "execution_count": 8,
   "metadata": {
    "scrolled": true
   },
   "outputs": [
    {
     "data": {
      "application/vnd.jupyter.widget-view+json": {
       "model_id": "2e56e7f52caa4e33930523ee6a4d8dee",
       "version_major": 2,
       "version_minor": 0
      },
      "text/plain": [
       "Figure(layout=FigureLayout(height='420px'))"
      ]
     },
     "metadata": {},
     "output_type": "display_data"
    }
   ],
   "source": [
    "fig.add_layer(heat_layer)\n",
    "fig"
   ]
  },
  {
   "cell_type": "markdown",
   "metadata": {},
   "source": [
    "### Create new DataFrame fitting weather criteria\n",
    "* Narrow down the cities to fit weather conditions.\n",
    "* Drop any rows will null values."
   ]
  },
  {
   "cell_type": "code",
   "execution_count": 10,
   "metadata": {
    "scrolled": true
   },
   "outputs": [
    {
     "data": {
      "text/html": [
       "<div>\n",
       "<style scoped>\n",
       "    .dataframe tbody tr th:only-of-type {\n",
       "        vertical-align: middle;\n",
       "    }\n",
       "\n",
       "    .dataframe tbody tr th {\n",
       "        vertical-align: top;\n",
       "    }\n",
       "\n",
       "    .dataframe thead th {\n",
       "        text-align: right;\n",
       "    }\n",
       "</style>\n",
       "<table border=\"1\" class=\"dataframe\">\n",
       "  <thead>\n",
       "    <tr style=\"text-align: right;\">\n",
       "      <th></th>\n",
       "      <th>City</th>\n",
       "      <th>Lat</th>\n",
       "      <th>Lng</th>\n",
       "      <th>Max Temp</th>\n",
       "      <th>Humidty</th>\n",
       "      <th>Cloudiness</th>\n",
       "      <th>Wind Speed</th>\n",
       "      <th>Country</th>\n",
       "      <th>Date</th>\n",
       "    </tr>\n",
       "  </thead>\n",
       "  <tbody>\n",
       "    <tr>\n",
       "      <th>7</th>\n",
       "      <td>birao</td>\n",
       "      <td>10.2849</td>\n",
       "      <td>22.7882</td>\n",
       "      <td>72.06</td>\n",
       "      <td>19</td>\n",
       "      <td>0</td>\n",
       "      <td>4.74</td>\n",
       "      <td>CF</td>\n",
       "      <td>1614643469</td>\n",
       "    </tr>\n",
       "    <tr>\n",
       "      <th>12</th>\n",
       "      <td>shitanjing</td>\n",
       "      <td>39.2342</td>\n",
       "      <td>106.3439</td>\n",
       "      <td>71.60</td>\n",
       "      <td>70</td>\n",
       "      <td>0</td>\n",
       "      <td>0.16</td>\n",
       "      <td>CN</td>\n",
       "      <td>1614643271</td>\n",
       "    </tr>\n",
       "    <tr>\n",
       "      <th>44</th>\n",
       "      <td>east london</td>\n",
       "      <td>-33.0153</td>\n",
       "      <td>27.9116</td>\n",
       "      <td>79.00</td>\n",
       "      <td>77</td>\n",
       "      <td>0</td>\n",
       "      <td>9.11</td>\n",
       "      <td>ZA</td>\n",
       "      <td>1614643479</td>\n",
       "    </tr>\n",
       "    <tr>\n",
       "      <th>100</th>\n",
       "      <td>llangefni</td>\n",
       "      <td>53.2556</td>\n",
       "      <td>-4.3106</td>\n",
       "      <td>77.28</td>\n",
       "      <td>93</td>\n",
       "      <td>0</td>\n",
       "      <td>1.54</td>\n",
       "      <td>GB</td>\n",
       "      <td>1614643494</td>\n",
       "    </tr>\n",
       "    <tr>\n",
       "      <th>188</th>\n",
       "      <td>shancheng</td>\n",
       "      <td>34.7953</td>\n",
       "      <td>116.0817</td>\n",
       "      <td>73.40</td>\n",
       "      <td>74</td>\n",
       "      <td>0</td>\n",
       "      <td>1.61</td>\n",
       "      <td>CN</td>\n",
       "      <td>1614643518</td>\n",
       "    </tr>\n",
       "  </tbody>\n",
       "</table>\n",
       "</div>"
      ],
      "text/plain": [
       "            City      Lat       Lng  Max Temp  Humidty  Cloudiness  \\\n",
       "7          birao  10.2849   22.7882     72.06       19           0   \n",
       "12    shitanjing  39.2342  106.3439     71.60       70           0   \n",
       "44   east london -33.0153   27.9116     79.00       77           0   \n",
       "100    llangefni  53.2556   -4.3106     77.28       93           0   \n",
       "188    shancheng  34.7953  116.0817     73.40       74           0   \n",
       "\n",
       "     Wind Speed Country        Date  \n",
       "7          4.74      CF  1614643469  \n",
       "12         0.16      CN  1614643271  \n",
       "44         9.11      ZA  1614643479  \n",
       "100        1.54      GB  1614643494  \n",
       "188        1.61      CN  1614643518  "
      ]
     },
     "execution_count": 10,
     "metadata": {},
     "output_type": "execute_result"
    }
   ],
   "source": [
    "narrow_df = city_df\n",
    "narrow_df = narrow_df.dropna()\n",
    "narrow_df = narrow_df.loc[(narrow_df['Max Temp'] > 70) & (narrow_df['Max Temp'] <80) & (narrow_df['Wind Speed']< 10) & (narrow_df['Cloudiness'] ==0)]\n",
    "narrow_df.head()"
   ]
  },
  {
   "cell_type": "markdown",
   "metadata": {},
   "source": [
    "### Hotel Map\n",
    "* Store into variable named `hotel_df`.\n",
    "* Add a \"Hotel Name\" column to the DataFrame.\n",
    "* Set parameters to search for hotels with 5000 meters.\n",
    "* Hit the Google Places API for each city's coordinates.\n",
    "* Store the first Hotel result into the DataFrame.\n",
    "* Plot markers on top of the heatmap."
   ]
  },
  {
   "cell_type": "code",
   "execution_count": null,
   "metadata": {},
   "outputs": [],
   "source": []
  },
  {
   "cell_type": "code",
   "execution_count": null,
   "metadata": {},
   "outputs": [],
   "source": []
  },
  {
   "cell_type": "code",
   "execution_count": null,
   "metadata": {},
   "outputs": [],
   "source": [
    "# NOTE: Do not change any of the code in this cell\n",
    "\n",
    "# Using the template add the hotel marks to the heatmap\n",
    "info_box_template = \"\"\"\n",
    "<dl>\n",
    "<dt>Name</dt><dd>{Hotel Name}</dd>\n",
    "<dt>City</dt><dd>{City}</dd>\n",
    "<dt>Country</dt><dd>{Country}</dd>\n",
    "</dl>\n",
    "\"\"\"\n",
    "# Store the DataFrame Row\n",
    "# NOTE: be sure to update with your DataFrame name\n",
    "hotel_info = [info_box_template.format(**row) for index, row in hotel_df.iterrows()]\n",
    "locations = hotel_df[[\"Lat\", \"Lng\"]]"
   ]
  },
  {
   "cell_type": "code",
   "execution_count": null,
   "metadata": {},
   "outputs": [],
   "source": [
    "# Add marker layer ontop of heat map\n",
    "\n",
    "\n",
    "# Display figure\n"
   ]
  },
  {
   "cell_type": "code",
   "execution_count": null,
   "metadata": {},
   "outputs": [],
   "source": []
  }
 ],
 "metadata": {
  "kernelspec": {
   "display_name": "Python 3",
   "language": "python",
   "name": "python3"
  },
  "language_info": {
   "codemirror_mode": {
    "name": "ipython",
    "version": 3
   },
   "file_extension": ".py",
   "mimetype": "text/x-python",
   "name": "python",
   "nbconvert_exporter": "python",
   "pygments_lexer": "ipython3",
   "version": "3.6.12"
  },
  "latex_envs": {
   "LaTeX_envs_menu_present": true,
   "autoclose": false,
   "autocomplete": true,
   "bibliofile": "biblio.bib",
   "cite_by": "apalike",
   "current_citInitial": 1,
   "eqLabelWithNumbers": true,
   "eqNumInitial": 1,
   "hotkeys": {
    "equation": "Ctrl-E",
    "itemize": "Ctrl-I"
   },
   "labels_anchors": false,
   "latex_user_defs": false,
   "report_style_numbering": false,
   "user_envs_cfg": false
  }
 },
 "nbformat": 4,
 "nbformat_minor": 4
}
