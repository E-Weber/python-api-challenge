{
 "cells": [
  {
   "cell_type": "markdown",
   "metadata": {},
   "source": [
    "# WeatherPy\n",
    "----\n",
    "\n",
    "#### Note\n",
    "* Instructions have been included for each segment. You do not have to follow them exactly, but they are included to help you think through the steps."
   ]
  },
  {
   "cell_type": "code",
   "execution_count": 269,
   "metadata": {
    "scrolled": true
   },
   "outputs": [],
   "source": [
    "# Dependencies and Setup\n",
    "import matplotlib.pyplot as plt\n",
    "import pandas as pd\n",
    "import numpy as np\n",
    "import requests\n",
    "import time\n",
    "import json\n",
    "from scipy.stats import linregress\n",
    "from scipy import stats\n",
    "\n",
    "# Import API key\n",
    "from api_keys import weather_api_key\n",
    "\n",
    "# Incorporated citipy to determine city based on latitude and longitude\n",
    "from citipy import citipy\n",
    "\n",
    "# Output File (CSV)\n",
    "output_data_file = \"../output_data/weather_df.csv\"\n",
    "\n",
    "# Range of latitudes and longitudes\n",
    "lat_range = (-90, 90)\n",
    "lng_range = (-180, 180)"
   ]
  },
  {
   "cell_type": "markdown",
   "metadata": {},
   "source": [
    "## Generate Cities List"
   ]
  },
  {
   "cell_type": "code",
   "execution_count": 105,
   "metadata": {
    "scrolled": true
   },
   "outputs": [
    {
     "name": "stdout",
     "output_type": "stream",
     "text": [
      "603\n"
     ]
    },
    {
     "data": {
      "text/html": [
       "<div>\n",
       "<style scoped>\n",
       "    .dataframe tbody tr th:only-of-type {\n",
       "        vertical-align: middle;\n",
       "    }\n",
       "\n",
       "    .dataframe tbody tr th {\n",
       "        vertical-align: top;\n",
       "    }\n",
       "\n",
       "    .dataframe thead th {\n",
       "        text-align: right;\n",
       "    }\n",
       "</style>\n",
       "<table border=\"1\" class=\"dataframe\">\n",
       "  <thead>\n",
       "    <tr style=\"text-align: right;\">\n",
       "      <th></th>\n",
       "      <th>City</th>\n",
       "    </tr>\n",
       "  </thead>\n",
       "  <tbody>\n",
       "    <tr>\n",
       "      <th>0</th>\n",
       "      <td>paramirim</td>\n",
       "    </tr>\n",
       "    <tr>\n",
       "      <th>1</th>\n",
       "      <td>port alfred</td>\n",
       "    </tr>\n",
       "    <tr>\n",
       "      <th>2</th>\n",
       "      <td>punta arenas</td>\n",
       "    </tr>\n",
       "    <tr>\n",
       "      <th>3</th>\n",
       "      <td>nizhniy odes</td>\n",
       "    </tr>\n",
       "    <tr>\n",
       "      <th>4</th>\n",
       "      <td>jamestown</td>\n",
       "    </tr>\n",
       "    <tr>\n",
       "      <th>...</th>\n",
       "      <td>...</td>\n",
       "    </tr>\n",
       "    <tr>\n",
       "      <th>598</th>\n",
       "      <td>sobolevo</td>\n",
       "    </tr>\n",
       "    <tr>\n",
       "      <th>599</th>\n",
       "      <td>raton</td>\n",
       "    </tr>\n",
       "    <tr>\n",
       "      <th>600</th>\n",
       "      <td>lamu</td>\n",
       "    </tr>\n",
       "    <tr>\n",
       "      <th>601</th>\n",
       "      <td>nanchang</td>\n",
       "    </tr>\n",
       "    <tr>\n",
       "      <th>602</th>\n",
       "      <td>krasnyy yar</td>\n",
       "    </tr>\n",
       "  </tbody>\n",
       "</table>\n",
       "<p>603 rows × 1 columns</p>\n",
       "</div>"
      ],
      "text/plain": [
       "             City\n",
       "0       paramirim\n",
       "1     port alfred\n",
       "2    punta arenas\n",
       "3    nizhniy odes\n",
       "4       jamestown\n",
       "..            ...\n",
       "598      sobolevo\n",
       "599         raton\n",
       "600          lamu\n",
       "601      nanchang\n",
       "602   krasnyy yar\n",
       "\n",
       "[603 rows x 1 columns]"
      ]
     },
     "execution_count": 105,
     "metadata": {},
     "output_type": "execute_result"
    }
   ],
   "source": [
    "# List for holding lat_lngs and cities\n",
    "lat_lngs = []\n",
    "cities = []\n",
    "countries = []\n",
    "\n",
    "# Create a set of random lat and lng combinations\n",
    "lats = np.random.uniform(lat_range[0], lat_range[1], size=1500)\n",
    "lngs = np.random.uniform(lng_range[0], lng_range[1], size=1500)\n",
    "lat_lngs = zip(lats, lngs)\n",
    "\n",
    "# Identify nearest city for each lat, lng combination\n",
    "for lat_lng in lat_lngs:\n",
    "    city = citipy.nearest_city(lat_lng[0], lat_lng[1]).city_name\n",
    "    \n",
    "    # If the city is unique, then add it to a our cities list\n",
    "    if city not in cities:\n",
    "        cities.append(city)\n",
    "\n",
    "# Print the city count to confirm sufficient count\n",
    "print(len(cities))\n",
    "city_list = pd.DataFrame({'City': cities})\n",
    "city_list"
   ]
  },
  {
   "cell_type": "markdown",
   "metadata": {},
   "source": [
    "### Perform API Calls\n",
    "* Perform a weather check on each city using a series of successive API calls.\n",
    "* Include a print log of each city as it'sbeing processed (with the city number and city name).\n"
   ]
  },
  {
   "cell_type": "code",
   "execution_count": 106,
   "metadata": {},
   "outputs": [
    {
     "data": {
      "text/plain": [
       "'https://api.openweathermap.org/data/2.5/weather?'"
      ]
     },
     "execution_count": 106,
     "metadata": {},
     "output_type": "execute_result"
    }
   ],
   "source": [
    "base_url = \"https://api.openweathermap.org/data/2.5/weather?\"\n",
    "base_url"
   ]
  },
  {
   "cell_type": "code",
   "execution_count": 107,
   "metadata": {
    "scrolled": true
   },
   "outputs": [
    {
     "data": {
      "text/plain": [
       "'https://api.openweathermap.org/data/2.5/weather?appid=0204d957343167e2a018ed050b858666&q='"
      ]
     },
     "execution_count": 107,
     "metadata": {},
     "output_type": "execute_result"
    }
   ],
   "source": [
    "query_url = f\"{base_url}appid={weather_api_key}&q=\"\n",
    "query_url"
   ]
  },
  {
   "cell_type": "code",
   "execution_count": 108,
   "metadata": {
    "scrolled": true
   },
   "outputs": [
    {
     "name": "stdout",
     "output_type": "stream",
     "text": [
      "https://api.openweathermap.org/data/2.5/weather?appid=0204d957343167e2a018ed050b858666&q=krasnyy yar\n"
     ]
    }
   ],
   "source": [
    "#weather_response = requests.get(query_url)\n",
    "#weather_json = weather_response.json()\n",
    "#weather_json\n",
    "data_url = query_url + city\n",
    "print(data_url)"
   ]
  },
  {
   "cell_type": "code",
   "execution_count": 109,
   "metadata": {},
   "outputs": [
    {
     "name": "stdout",
     "output_type": "stream",
     "text": [
      "Beginning Data Retrieval\n",
      "-----------------------------\n",
      "https://api.openweathermap.org/data/2.5/weather?appid=0204d957343167e2a018ed050b858666&q=paramirim\n",
      "Processing Record 0 of set 1 | paramirim\n",
      "https://api.openweathermap.org/data/2.5/weather?appid=0204d957343167e2a018ed050b858666&q=port alfred\n",
      "Processing Record 1 of set 1 | port alfred\n",
      "https://api.openweathermap.org/data/2.5/weather?appid=0204d957343167e2a018ed050b858666&q=punta arenas\n",
      "Processing Record 2 of set 1 | punta arenas\n",
      "https://api.openweathermap.org/data/2.5/weather?appid=0204d957343167e2a018ed050b858666&q=nizhniy odes\n",
      "Processing Record 3 of set 1 | nizhniy odes\n",
      "https://api.openweathermap.org/data/2.5/weather?appid=0204d957343167e2a018ed050b858666&q=jamestown\n",
      "Processing Record 4 of set 1 | jamestown\n",
      "https://api.openweathermap.org/data/2.5/weather?appid=0204d957343167e2a018ed050b858666&q=georgetown\n",
      "Processing Record 5 of set 1 | georgetown\n",
      "https://api.openweathermap.org/data/2.5/weather?appid=0204d957343167e2a018ed050b858666&q=barcelona\n",
      "Processing Record 6 of set 1 | barcelona\n",
      "https://api.openweathermap.org/data/2.5/weather?appid=0204d957343167e2a018ed050b858666&q=birao\n",
      "Processing Record 7 of set 1 | birao\n",
      "https://api.openweathermap.org/data/2.5/weather?appid=0204d957343167e2a018ed050b858666&q=pa sang\n",
      "Processing Record 8 of set 1 | pa sang\n",
      "https://api.openweathermap.org/data/2.5/weather?appid=0204d957343167e2a018ed050b858666&q=chauk\n",
      "Processing Record 9 of set 1 | chauk\n",
      "https://api.openweathermap.org/data/2.5/weather?appid=0204d957343167e2a018ed050b858666&q=hermanus\n",
      "Processing Record 10 of set 1 | hermanus\n",
      "https://api.openweathermap.org/data/2.5/weather?appid=0204d957343167e2a018ed050b858666&q=qaanaaq\n",
      "Processing Record 11 of set 1 | qaanaaq\n",
      "https://api.openweathermap.org/data/2.5/weather?appid=0204d957343167e2a018ed050b858666&q=shitanjing\n",
      "Processing Record 12 of set 1 | shitanjing\n",
      "https://api.openweathermap.org/data/2.5/weather?appid=0204d957343167e2a018ed050b858666&q=busselton\n",
      "Processing Record 13 of set 1 | busselton\n",
      "https://api.openweathermap.org/data/2.5/weather?appid=0204d957343167e2a018ed050b858666&q=mataura\n",
      "Processing Record 14 of set 1 | mataura\n",
      "https://api.openweathermap.org/data/2.5/weather?appid=0204d957343167e2a018ed050b858666&q=sisimiut\n",
      "Processing Record 15 of set 1 | sisimiut\n",
      "https://api.openweathermap.org/data/2.5/weather?appid=0204d957343167e2a018ed050b858666&q=rikitea\n",
      "Processing Record 16 of set 1 | rikitea\n",
      "https://api.openweathermap.org/data/2.5/weather?appid=0204d957343167e2a018ed050b858666&q=puerto ayora\n",
      "Processing Record 17 of set 1 | puerto ayora\n",
      "https://api.openweathermap.org/data/2.5/weather?appid=0204d957343167e2a018ed050b858666&q=bacuit\n",
      "City not found. Skipping..\n",
      "Processing Record 18 of set 1 | bacuit\n",
      "https://api.openweathermap.org/data/2.5/weather?appid=0204d957343167e2a018ed050b858666&q=tsihombe\n",
      "City not found. Skipping..\n",
      "Processing Record 19 of set 1 | tsihombe\n",
      "https://api.openweathermap.org/data/2.5/weather?appid=0204d957343167e2a018ed050b858666&q=albany\n",
      "Processing Record 20 of set 1 | albany\n",
      "https://api.openweathermap.org/data/2.5/weather?appid=0204d957343167e2a018ed050b858666&q=thompson\n",
      "Processing Record 21 of set 1 | thompson\n",
      "https://api.openweathermap.org/data/2.5/weather?appid=0204d957343167e2a018ed050b858666&q=kebumen\n",
      "Processing Record 22 of set 1 | kebumen\n",
      "https://api.openweathermap.org/data/2.5/weather?appid=0204d957343167e2a018ed050b858666&q=aswan\n",
      "Processing Record 23 of set 1 | aswan\n",
      "https://api.openweathermap.org/data/2.5/weather?appid=0204d957343167e2a018ed050b858666&q=inza\n",
      "Processing Record 24 of set 1 | inza\n",
      "https://api.openweathermap.org/data/2.5/weather?appid=0204d957343167e2a018ed050b858666&q=provideniya\n",
      "Processing Record 25 of set 1 | provideniya\n",
      "https://api.openweathermap.org/data/2.5/weather?appid=0204d957343167e2a018ed050b858666&q=arraial do cabo\n",
      "Processing Record 26 of set 1 | arraial do cabo\n",
      "https://api.openweathermap.org/data/2.5/weather?appid=0204d957343167e2a018ed050b858666&q=acarau\n",
      "Processing Record 27 of set 1 | acarau\n",
      "https://api.openweathermap.org/data/2.5/weather?appid=0204d957343167e2a018ed050b858666&q=kapaa\n",
      "Processing Record 28 of set 1 | kapaa\n",
      "https://api.openweathermap.org/data/2.5/weather?appid=0204d957343167e2a018ed050b858666&q=otuzco\n",
      "Processing Record 29 of set 1 | otuzco\n",
      "https://api.openweathermap.org/data/2.5/weather?appid=0204d957343167e2a018ed050b858666&q=mandera\n",
      "Processing Record 30 of set 1 | mandera\n",
      "https://api.openweathermap.org/data/2.5/weather?appid=0204d957343167e2a018ed050b858666&q=yingzhong\n",
      "City not found. Skipping..\n",
      "Processing Record 31 of set 1 | yingzhong\n",
      "https://api.openweathermap.org/data/2.5/weather?appid=0204d957343167e2a018ed050b858666&q=port elizabeth\n",
      "Processing Record 32 of set 1 | port elizabeth\n",
      "https://api.openweathermap.org/data/2.5/weather?appid=0204d957343167e2a018ed050b858666&q=kutum\n",
      "Processing Record 33 of set 1 | kutum\n",
      "https://api.openweathermap.org/data/2.5/weather?appid=0204d957343167e2a018ed050b858666&q=ancud\n",
      "Processing Record 34 of set 1 | ancud\n",
      "https://api.openweathermap.org/data/2.5/weather?appid=0204d957343167e2a018ed050b858666&q=new norfolk\n",
      "Processing Record 35 of set 1 | new norfolk\n",
      "https://api.openweathermap.org/data/2.5/weather?appid=0204d957343167e2a018ed050b858666&q=ushuaia\n",
      "Processing Record 36 of set 1 | ushuaia\n",
      "https://api.openweathermap.org/data/2.5/weather?appid=0204d957343167e2a018ed050b858666&q=bambous virieux\n",
      "Processing Record 37 of set 1 | bambous virieux\n",
      "https://api.openweathermap.org/data/2.5/weather?appid=0204d957343167e2a018ed050b858666&q=coquimbo\n",
      "Processing Record 38 of set 1 | coquimbo\n",
      "https://api.openweathermap.org/data/2.5/weather?appid=0204d957343167e2a018ed050b858666&q=kaitangata\n",
      "Processing Record 39 of set 1 | kaitangata\n",
      "https://api.openweathermap.org/data/2.5/weather?appid=0204d957343167e2a018ed050b858666&q=loiza\n",
      "Processing Record 40 of set 1 | loiza\n",
      "https://api.openweathermap.org/data/2.5/weather?appid=0204d957343167e2a018ed050b858666&q=hailar\n",
      "Processing Record 41 of set 1 | hailar\n",
      "https://api.openweathermap.org/data/2.5/weather?appid=0204d957343167e2a018ed050b858666&q=hobart\n",
      "Processing Record 42 of set 1 | hobart\n",
      "https://api.openweathermap.org/data/2.5/weather?appid=0204d957343167e2a018ed050b858666&q=hilo\n",
      "Processing Record 43 of set 1 | hilo\n",
      "https://api.openweathermap.org/data/2.5/weather?appid=0204d957343167e2a018ed050b858666&q=illoqqortoormiut\n",
      "City not found. Skipping..\n",
      "Processing Record 44 of set 1 | illoqqortoormiut\n",
      "https://api.openweathermap.org/data/2.5/weather?appid=0204d957343167e2a018ed050b858666&q=taltal\n",
      "Processing Record 45 of set 1 | taltal\n",
      "https://api.openweathermap.org/data/2.5/weather?appid=0204d957343167e2a018ed050b858666&q=puerto del rosario\n",
      "Processing Record 46 of set 1 | puerto del rosario\n",
      "https://api.openweathermap.org/data/2.5/weather?appid=0204d957343167e2a018ed050b858666&q=tonantins\n",
      "Processing Record 47 of set 1 | tonantins\n",
      "https://api.openweathermap.org/data/2.5/weather?appid=0204d957343167e2a018ed050b858666&q=east london\n",
      "Processing Record 48 of set 1 | east london\n",
      "https://api.openweathermap.org/data/2.5/weather?appid=0204d957343167e2a018ed050b858666&q=sentyabrskiy\n",
      "City not found. Skipping..\n",
      "Processing Record 49 of set 1 | sentyabrskiy\n",
      "https://api.openweathermap.org/data/2.5/weather?appid=0204d957343167e2a018ed050b858666&q=vaini\n",
      "Processing Record 50 of set 1 | vaini\n",
      "https://api.openweathermap.org/data/2.5/weather?appid=0204d957343167e2a018ed050b858666&q=carnarvon\n",
      "Processing Record 51 of set 1 | carnarvon\n",
      "https://api.openweathermap.org/data/2.5/weather?appid=0204d957343167e2a018ed050b858666&q=narrabri\n",
      "Processing Record 1 of set 2 | narrabri\n",
      "https://api.openweathermap.org/data/2.5/weather?appid=0204d957343167e2a018ed050b858666&q=soyo\n",
      "Processing Record 2 of set 2 | soyo\n",
      "https://api.openweathermap.org/data/2.5/weather?appid=0204d957343167e2a018ed050b858666&q=khuzdar\n",
      "Processing Record 3 of set 2 | khuzdar\n",
      "https://api.openweathermap.org/data/2.5/weather?appid=0204d957343167e2a018ed050b858666&q=tasiilaq\n",
      "Processing Record 4 of set 2 | tasiilaq\n",
      "https://api.openweathermap.org/data/2.5/weather?appid=0204d957343167e2a018ed050b858666&q=willowmore\n",
      "Processing Record 5 of set 2 | willowmore\n",
      "https://api.openweathermap.org/data/2.5/weather?appid=0204d957343167e2a018ed050b858666&q=dikson\n"
     ]
    },
    {
     "name": "stdout",
     "output_type": "stream",
     "text": [
      "Processing Record 6 of set 2 | dikson\n",
      "https://api.openweathermap.org/data/2.5/weather?appid=0204d957343167e2a018ed050b858666&q=reconquista\n",
      "Processing Record 7 of set 2 | reconquista\n",
      "https://api.openweathermap.org/data/2.5/weather?appid=0204d957343167e2a018ed050b858666&q=dukat\n",
      "Processing Record 8 of set 2 | dukat\n",
      "https://api.openweathermap.org/data/2.5/weather?appid=0204d957343167e2a018ed050b858666&q=volgodonsk\n",
      "Processing Record 9 of set 2 | volgodonsk\n",
      "https://api.openweathermap.org/data/2.5/weather?appid=0204d957343167e2a018ed050b858666&q=saskylakh\n",
      "Processing Record 10 of set 2 | saskylakh\n",
      "https://api.openweathermap.org/data/2.5/weather?appid=0204d957343167e2a018ed050b858666&q=saint-philippe\n",
      "Processing Record 11 of set 2 | saint-philippe\n",
      "https://api.openweathermap.org/data/2.5/weather?appid=0204d957343167e2a018ed050b858666&q=makakilo city\n",
      "Processing Record 12 of set 2 | makakilo city\n",
      "https://api.openweathermap.org/data/2.5/weather?appid=0204d957343167e2a018ed050b858666&q=bethel\n",
      "Processing Record 13 of set 2 | bethel\n",
      "https://api.openweathermap.org/data/2.5/weather?appid=0204d957343167e2a018ed050b858666&q=slave lake\n",
      "Processing Record 14 of set 2 | slave lake\n",
      "https://api.openweathermap.org/data/2.5/weather?appid=0204d957343167e2a018ed050b858666&q=san patricio\n",
      "Processing Record 15 of set 2 | san patricio\n",
      "https://api.openweathermap.org/data/2.5/weather?appid=0204d957343167e2a018ed050b858666&q=kruisfontein\n",
      "Processing Record 16 of set 2 | kruisfontein\n",
      "https://api.openweathermap.org/data/2.5/weather?appid=0204d957343167e2a018ed050b858666&q=zhanaozen\n",
      "Processing Record 17 of set 2 | zhanaozen\n",
      "https://api.openweathermap.org/data/2.5/weather?appid=0204d957343167e2a018ed050b858666&q=aranos\n",
      "Processing Record 18 of set 2 | aranos\n",
      "https://api.openweathermap.org/data/2.5/weather?appid=0204d957343167e2a018ed050b858666&q=nizhneyansk\n",
      "City not found. Skipping..\n",
      "Processing Record 19 of set 2 | nizhneyansk\n",
      "https://api.openweathermap.org/data/2.5/weather?appid=0204d957343167e2a018ed050b858666&q=faanui\n",
      "Processing Record 20 of set 2 | faanui\n",
      "https://api.openweathermap.org/data/2.5/weather?appid=0204d957343167e2a018ed050b858666&q=sitka\n",
      "Processing Record 21 of set 2 | sitka\n",
      "https://api.openweathermap.org/data/2.5/weather?appid=0204d957343167e2a018ed050b858666&q=norman wells\n",
      "Processing Record 22 of set 2 | norman wells\n",
      "https://api.openweathermap.org/data/2.5/weather?appid=0204d957343167e2a018ed050b858666&q=labuhan\n",
      "Processing Record 23 of set 2 | labuhan\n",
      "https://api.openweathermap.org/data/2.5/weather?appid=0204d957343167e2a018ed050b858666&q=lima\n",
      "Processing Record 24 of set 2 | lima\n",
      "https://api.openweathermap.org/data/2.5/weather?appid=0204d957343167e2a018ed050b858666&q=mayor pablo lagerenza\n",
      "Processing Record 25 of set 2 | mayor pablo lagerenza\n",
      "https://api.openweathermap.org/data/2.5/weather?appid=0204d957343167e2a018ed050b858666&q=henties bay\n",
      "Processing Record 26 of set 2 | henties bay\n",
      "https://api.openweathermap.org/data/2.5/weather?appid=0204d957343167e2a018ed050b858666&q=severo-kurilsk\n",
      "Processing Record 27 of set 2 | severo-kurilsk\n",
      "https://api.openweathermap.org/data/2.5/weather?appid=0204d957343167e2a018ed050b858666&q=plettenberg bay\n",
      "Processing Record 28 of set 2 | plettenberg bay\n",
      "https://api.openweathermap.org/data/2.5/weather?appid=0204d957343167e2a018ed050b858666&q=solwezi\n",
      "Processing Record 29 of set 2 | solwezi\n",
      "https://api.openweathermap.org/data/2.5/weather?appid=0204d957343167e2a018ed050b858666&q=port hedland\n",
      "Processing Record 30 of set 2 | port hedland\n",
      "https://api.openweathermap.org/data/2.5/weather?appid=0204d957343167e2a018ed050b858666&q=port lincoln\n",
      "Processing Record 31 of set 2 | port lincoln\n",
      "https://api.openweathermap.org/data/2.5/weather?appid=0204d957343167e2a018ed050b858666&q=taolanaro\n",
      "City not found. Skipping..\n",
      "Processing Record 32 of set 2 | taolanaro\n",
      "https://api.openweathermap.org/data/2.5/weather?appid=0204d957343167e2a018ed050b858666&q=san rafael\n",
      "Processing Record 33 of set 2 | san rafael\n",
      "https://api.openweathermap.org/data/2.5/weather?appid=0204d957343167e2a018ed050b858666&q=butaritari\n",
      "Processing Record 34 of set 2 | butaritari\n",
      "https://api.openweathermap.org/data/2.5/weather?appid=0204d957343167e2a018ed050b858666&q=clyde river\n",
      "Processing Record 35 of set 2 | clyde river\n",
      "https://api.openweathermap.org/data/2.5/weather?appid=0204d957343167e2a018ed050b858666&q=chuy\n",
      "Processing Record 36 of set 2 | chuy\n",
      "https://api.openweathermap.org/data/2.5/weather?appid=0204d957343167e2a018ed050b858666&q=atuona\n",
      "Processing Record 37 of set 2 | atuona\n",
      "https://api.openweathermap.org/data/2.5/weather?appid=0204d957343167e2a018ed050b858666&q=songkhla\n",
      "Processing Record 38 of set 2 | songkhla\n",
      "https://api.openweathermap.org/data/2.5/weather?appid=0204d957343167e2a018ed050b858666&q=hithadhoo\n",
      "Processing Record 39 of set 2 | hithadhoo\n",
      "https://api.openweathermap.org/data/2.5/weather?appid=0204d957343167e2a018ed050b858666&q=cherskiy\n",
      "Processing Record 40 of set 2 | cherskiy\n",
      "https://api.openweathermap.org/data/2.5/weather?appid=0204d957343167e2a018ed050b858666&q=qui nhon\n",
      "Processing Record 41 of set 2 | qui nhon\n",
      "https://api.openweathermap.org/data/2.5/weather?appid=0204d957343167e2a018ed050b858666&q=jumla\n",
      "Processing Record 42 of set 2 | jumla\n",
      "https://api.openweathermap.org/data/2.5/weather?appid=0204d957343167e2a018ed050b858666&q=rexburg\n",
      "Processing Record 43 of set 2 | rexburg\n",
      "https://api.openweathermap.org/data/2.5/weather?appid=0204d957343167e2a018ed050b858666&q=huilong\n",
      "Processing Record 44 of set 2 | huilong\n",
      "https://api.openweathermap.org/data/2.5/weather?appid=0204d957343167e2a018ed050b858666&q=patiya\n",
      "Processing Record 45 of set 2 | patiya\n",
      "https://api.openweathermap.org/data/2.5/weather?appid=0204d957343167e2a018ed050b858666&q=vila do maio\n",
      "Processing Record 46 of set 2 | vila do maio\n",
      "https://api.openweathermap.org/data/2.5/weather?appid=0204d957343167e2a018ed050b858666&q=merauke\n",
      "Processing Record 47 of set 2 | merauke\n",
      "https://api.openweathermap.org/data/2.5/weather?appid=0204d957343167e2a018ed050b858666&q=bredasdorp\n",
      "Processing Record 48 of set 2 | bredasdorp\n",
      "https://api.openweathermap.org/data/2.5/weather?appid=0204d957343167e2a018ed050b858666&q=armacao dos buzios\n",
      "City not found. Skipping..\n",
      "Processing Record 49 of set 2 | armacao dos buzios\n",
      "https://api.openweathermap.org/data/2.5/weather?appid=0204d957343167e2a018ed050b858666&q=rawson\n",
      "Processing Record 50 of set 2 | rawson\n",
      "https://api.openweathermap.org/data/2.5/weather?appid=0204d957343167e2a018ed050b858666&q=broome\n",
      "Processing Record 51 of set 2 | broome\n",
      "https://api.openweathermap.org/data/2.5/weather?appid=0204d957343167e2a018ed050b858666&q=bluff\n",
      "Processing Record 1 of set 3 | bluff\n",
      "https://api.openweathermap.org/data/2.5/weather?appid=0204d957343167e2a018ed050b858666&q=shimoda\n",
      "Processing Record 2 of set 3 | shimoda\n",
      "https://api.openweathermap.org/data/2.5/weather?appid=0204d957343167e2a018ed050b858666&q=vardo\n",
      "Processing Record 3 of set 3 | vardo\n",
      "https://api.openweathermap.org/data/2.5/weather?appid=0204d957343167e2a018ed050b858666&q=artesia\n",
      "Processing Record 4 of set 3 | artesia\n",
      "https://api.openweathermap.org/data/2.5/weather?appid=0204d957343167e2a018ed050b858666&q=ilulissat\n",
      "Processing Record 5 of set 3 | ilulissat\n",
      "https://api.openweathermap.org/data/2.5/weather?appid=0204d957343167e2a018ed050b858666&q=llangefni\n",
      "Processing Record 6 of set 3 | llangefni\n",
      "https://api.openweathermap.org/data/2.5/weather?appid=0204d957343167e2a018ed050b858666&q=amderma\n",
      "City not found. Skipping..\n",
      "Processing Record 7 of set 3 | amderma\n",
      "https://api.openweathermap.org/data/2.5/weather?appid=0204d957343167e2a018ed050b858666&q=avarua\n",
      "Processing Record 8 of set 3 | avarua\n",
      "https://api.openweathermap.org/data/2.5/weather?appid=0204d957343167e2a018ed050b858666&q=sinnamary\n",
      "Processing Record 9 of set 3 | sinnamary\n",
      "https://api.openweathermap.org/data/2.5/weather?appid=0204d957343167e2a018ed050b858666&q=pueblo\n",
      "Processing Record 10 of set 3 | pueblo\n",
      "https://api.openweathermap.org/data/2.5/weather?appid=0204d957343167e2a018ed050b858666&q=kununurra\n",
      "Processing Record 11 of set 3 | kununurra\n",
      "https://api.openweathermap.org/data/2.5/weather?appid=0204d957343167e2a018ed050b858666&q=adrar\n",
      "Processing Record 12 of set 3 | adrar\n",
      "https://api.openweathermap.org/data/2.5/weather?appid=0204d957343167e2a018ed050b858666&q=bababe\n",
      "City not found. Skipping..\n",
      "Processing Record 13 of set 3 | bababe\n",
      "https://api.openweathermap.org/data/2.5/weather?appid=0204d957343167e2a018ed050b858666&q=erzincan\n"
     ]
    },
    {
     "name": "stdout",
     "output_type": "stream",
     "text": [
      "Processing Record 14 of set 3 | erzincan\n",
      "https://api.openweathermap.org/data/2.5/weather?appid=0204d957343167e2a018ed050b858666&q=talnakh\n",
      "Processing Record 15 of set 3 | talnakh\n",
      "https://api.openweathermap.org/data/2.5/weather?appid=0204d957343167e2a018ed050b858666&q=privodino\n",
      "Processing Record 16 of set 3 | privodino\n",
      "https://api.openweathermap.org/data/2.5/weather?appid=0204d957343167e2a018ed050b858666&q=namatanai\n",
      "Processing Record 17 of set 3 | namatanai\n",
      "https://api.openweathermap.org/data/2.5/weather?appid=0204d957343167e2a018ed050b858666&q=wakkanai\n",
      "Processing Record 18 of set 3 | wakkanai\n",
      "https://api.openweathermap.org/data/2.5/weather?appid=0204d957343167e2a018ed050b858666&q=praia da vitoria\n",
      "Processing Record 19 of set 3 | praia da vitoria\n",
      "https://api.openweathermap.org/data/2.5/weather?appid=0204d957343167e2a018ed050b858666&q=kanigoro\n",
      "Processing Record 20 of set 3 | kanigoro\n",
      "https://api.openweathermap.org/data/2.5/weather?appid=0204d957343167e2a018ed050b858666&q=prince rupert\n",
      "Processing Record 21 of set 3 | prince rupert\n",
      "https://api.openweathermap.org/data/2.5/weather?appid=0204d957343167e2a018ed050b858666&q=kampot\n",
      "Processing Record 22 of set 3 | kampot\n",
      "https://api.openweathermap.org/data/2.5/weather?appid=0204d957343167e2a018ed050b858666&q=souillac\n",
      "Processing Record 23 of set 3 | souillac\n",
      "https://api.openweathermap.org/data/2.5/weather?appid=0204d957343167e2a018ed050b858666&q=bilibino\n",
      "Processing Record 24 of set 3 | bilibino\n",
      "https://api.openweathermap.org/data/2.5/weather?appid=0204d957343167e2a018ed050b858666&q=margate\n",
      "Processing Record 25 of set 3 | margate\n",
      "https://api.openweathermap.org/data/2.5/weather?appid=0204d957343167e2a018ed050b858666&q=chulman\n",
      "Processing Record 26 of set 3 | chulman\n",
      "https://api.openweathermap.org/data/2.5/weather?appid=0204d957343167e2a018ed050b858666&q=maniitsoq\n",
      "Processing Record 27 of set 3 | maniitsoq\n",
      "https://api.openweathermap.org/data/2.5/weather?appid=0204d957343167e2a018ed050b858666&q=rio gallegos\n",
      "Processing Record 28 of set 3 | rio gallegos\n",
      "https://api.openweathermap.org/data/2.5/weather?appid=0204d957343167e2a018ed050b858666&q=hamilton\n",
      "Processing Record 29 of set 3 | hamilton\n",
      "https://api.openweathermap.org/data/2.5/weather?appid=0204d957343167e2a018ed050b858666&q=westport\n",
      "Processing Record 30 of set 3 | westport\n",
      "https://api.openweathermap.org/data/2.5/weather?appid=0204d957343167e2a018ed050b858666&q=ishigaki\n",
      "Processing Record 31 of set 3 | ishigaki\n",
      "https://api.openweathermap.org/data/2.5/weather?appid=0204d957343167e2a018ed050b858666&q=erzin\n",
      "Processing Record 32 of set 3 | erzin\n",
      "https://api.openweathermap.org/data/2.5/weather?appid=0204d957343167e2a018ed050b858666&q=nome\n",
      "Processing Record 33 of set 3 | nome\n",
      "https://api.openweathermap.org/data/2.5/weather?appid=0204d957343167e2a018ed050b858666&q=samusu\n",
      "City not found. Skipping..\n",
      "Processing Record 34 of set 3 | samusu\n",
      "https://api.openweathermap.org/data/2.5/weather?appid=0204d957343167e2a018ed050b858666&q=concepcion del uruguay\n",
      "Processing Record 35 of set 3 | concepcion del uruguay\n",
      "https://api.openweathermap.org/data/2.5/weather?appid=0204d957343167e2a018ed050b858666&q=moron\n",
      "Processing Record 36 of set 3 | moron\n",
      "https://api.openweathermap.org/data/2.5/weather?appid=0204d957343167e2a018ed050b858666&q=pisco\n",
      "Processing Record 37 of set 3 | pisco\n",
      "https://api.openweathermap.org/data/2.5/weather?appid=0204d957343167e2a018ed050b858666&q=araouane\n",
      "Processing Record 38 of set 3 | araouane\n",
      "https://api.openweathermap.org/data/2.5/weather?appid=0204d957343167e2a018ed050b858666&q=cape town\n",
      "Processing Record 39 of set 3 | cape town\n",
      "https://api.openweathermap.org/data/2.5/weather?appid=0204d957343167e2a018ed050b858666&q=vicuna\n",
      "Processing Record 40 of set 3 | vicuna\n",
      "https://api.openweathermap.org/data/2.5/weather?appid=0204d957343167e2a018ed050b858666&q=klaksvik\n",
      "Processing Record 41 of set 3 | klaksvik\n",
      "https://api.openweathermap.org/data/2.5/weather?appid=0204d957343167e2a018ed050b858666&q=fairbanks\n",
      "Processing Record 42 of set 3 | fairbanks\n",
      "https://api.openweathermap.org/data/2.5/weather?appid=0204d957343167e2a018ed050b858666&q=astoria\n",
      "Processing Record 43 of set 3 | astoria\n",
      "https://api.openweathermap.org/data/2.5/weather?appid=0204d957343167e2a018ed050b858666&q=salinas\n",
      "Processing Record 44 of set 3 | salinas\n",
      "https://api.openweathermap.org/data/2.5/weather?appid=0204d957343167e2a018ed050b858666&q=yichang\n",
      "Processing Record 45 of set 3 | yichang\n",
      "https://api.openweathermap.org/data/2.5/weather?appid=0204d957343167e2a018ed050b858666&q=cucuta\n",
      "Processing Record 46 of set 3 | cucuta\n",
      "https://api.openweathermap.org/data/2.5/weather?appid=0204d957343167e2a018ed050b858666&q=ovsyanka\n",
      "Processing Record 47 of set 3 | ovsyanka\n",
      "https://api.openweathermap.org/data/2.5/weather?appid=0204d957343167e2a018ed050b858666&q=yar-sale\n",
      "Processing Record 48 of set 3 | yar-sale\n",
      "https://api.openweathermap.org/data/2.5/weather?appid=0204d957343167e2a018ed050b858666&q=safonovo\n",
      "Processing Record 49 of set 3 | safonovo\n",
      "https://api.openweathermap.org/data/2.5/weather?appid=0204d957343167e2a018ed050b858666&q=frontera\n",
      "Processing Record 50 of set 3 | frontera\n",
      "https://api.openweathermap.org/data/2.5/weather?appid=0204d957343167e2a018ed050b858666&q=mar del plata\n",
      "Processing Record 51 of set 3 | mar del plata\n",
      "https://api.openweathermap.org/data/2.5/weather?appid=0204d957343167e2a018ed050b858666&q=esperance\n",
      "Processing Record 1 of set 4 | esperance\n",
      "https://api.openweathermap.org/data/2.5/weather?appid=0204d957343167e2a018ed050b858666&q=oyem\n",
      "Processing Record 2 of set 4 | oyem\n",
      "https://api.openweathermap.org/data/2.5/weather?appid=0204d957343167e2a018ed050b858666&q=barentsburg\n",
      "City not found. Skipping..\n",
      "Processing Record 3 of set 4 | barentsburg\n",
      "https://api.openweathermap.org/data/2.5/weather?appid=0204d957343167e2a018ed050b858666&q=vostok\n",
      "Processing Record 4 of set 4 | vostok\n",
      "https://api.openweathermap.org/data/2.5/weather?appid=0204d957343167e2a018ed050b858666&q=elizabethtown\n",
      "Processing Record 5 of set 4 | elizabethtown\n",
      "https://api.openweathermap.org/data/2.5/weather?appid=0204d957343167e2a018ed050b858666&q=ribeira grande\n",
      "Processing Record 6 of set 4 | ribeira grande\n",
      "https://api.openweathermap.org/data/2.5/weather?appid=0204d957343167e2a018ed050b858666&q=nanortalik\n",
      "Processing Record 7 of set 4 | nanortalik\n",
      "https://api.openweathermap.org/data/2.5/weather?appid=0204d957343167e2a018ed050b858666&q=hualmay\n",
      "Processing Record 8 of set 4 | hualmay\n",
      "https://api.openweathermap.org/data/2.5/weather?appid=0204d957343167e2a018ed050b858666&q=portland\n",
      "Processing Record 9 of set 4 | portland\n",
      "https://api.openweathermap.org/data/2.5/weather?appid=0204d957343167e2a018ed050b858666&q=agadez\n",
      "Processing Record 10 of set 4 | agadez\n",
      "https://api.openweathermap.org/data/2.5/weather?appid=0204d957343167e2a018ed050b858666&q=kodiak\n",
      "Processing Record 11 of set 4 | kodiak\n",
      "https://api.openweathermap.org/data/2.5/weather?appid=0204d957343167e2a018ed050b858666&q=barabai\n",
      "Processing Record 12 of set 4 | barabai\n",
      "https://api.openweathermap.org/data/2.5/weather?appid=0204d957343167e2a018ed050b858666&q=kavieng\n",
      "Processing Record 13 of set 4 | kavieng\n",
      "https://api.openweathermap.org/data/2.5/weather?appid=0204d957343167e2a018ed050b858666&q=barrow\n",
      "Processing Record 14 of set 4 | barrow\n",
      "https://api.openweathermap.org/data/2.5/weather?appid=0204d957343167e2a018ed050b858666&q=airai\n",
      "Processing Record 15 of set 4 | airai\n",
      "https://api.openweathermap.org/data/2.5/weather?appid=0204d957343167e2a018ed050b858666&q=mehamn\n",
      "Processing Record 16 of set 4 | mehamn\n",
      "https://api.openweathermap.org/data/2.5/weather?appid=0204d957343167e2a018ed050b858666&q=yellowknife\n",
      "Processing Record 17 of set 4 | yellowknife\n",
      "https://api.openweathermap.org/data/2.5/weather?appid=0204d957343167e2a018ed050b858666&q=zabol\n",
      "Processing Record 18 of set 4 | zabol\n",
      "https://api.openweathermap.org/data/2.5/weather?appid=0204d957343167e2a018ed050b858666&q=basco\n",
      "Processing Record 19 of set 4 | basco\n",
      "https://api.openweathermap.org/data/2.5/weather?appid=0204d957343167e2a018ed050b858666&q=bargal\n",
      "City not found. Skipping..\n",
      "Processing Record 20 of set 4 | bargal\n",
      "https://api.openweathermap.org/data/2.5/weather?appid=0204d957343167e2a018ed050b858666&q=mullaitivu\n",
      "City not found. Skipping..\n",
      "Processing Record 21 of set 4 | mullaitivu\n",
      "https://api.openweathermap.org/data/2.5/weather?appid=0204d957343167e2a018ed050b858666&q=kahului\n",
      "Processing Record 22 of set 4 | kahului\n",
      "https://api.openweathermap.org/data/2.5/weather?appid=0204d957343167e2a018ed050b858666&q=tiksi\n"
     ]
    },
    {
     "name": "stdout",
     "output_type": "stream",
     "text": [
      "Processing Record 23 of set 4 | tiksi\n",
      "https://api.openweathermap.org/data/2.5/weather?appid=0204d957343167e2a018ed050b858666&q=sao filipe\n",
      "Processing Record 24 of set 4 | sao filipe\n",
      "https://api.openweathermap.org/data/2.5/weather?appid=0204d957343167e2a018ed050b858666&q=bengkulu\n",
      "Processing Record 25 of set 4 | bengkulu\n",
      "https://api.openweathermap.org/data/2.5/weather?appid=0204d957343167e2a018ed050b858666&q=berlevag\n",
      "Processing Record 26 of set 4 | berlevag\n",
      "https://api.openweathermap.org/data/2.5/weather?appid=0204d957343167e2a018ed050b858666&q=naftah\n",
      "City not found. Skipping..\n",
      "Processing Record 27 of set 4 | naftah\n",
      "https://api.openweathermap.org/data/2.5/weather?appid=0204d957343167e2a018ed050b858666&q=kitimat\n",
      "Processing Record 28 of set 4 | kitimat\n",
      "https://api.openweathermap.org/data/2.5/weather?appid=0204d957343167e2a018ed050b858666&q=lavrentiya\n",
      "Processing Record 29 of set 4 | lavrentiya\n",
      "https://api.openweathermap.org/data/2.5/weather?appid=0204d957343167e2a018ed050b858666&q=nizwa\n",
      "Processing Record 30 of set 4 | nizwa\n",
      "https://api.openweathermap.org/data/2.5/weather?appid=0204d957343167e2a018ed050b858666&q=saint-francois\n",
      "Processing Record 31 of set 4 | saint-francois\n",
      "https://api.openweathermap.org/data/2.5/weather?appid=0204d957343167e2a018ed050b858666&q=katsuura\n",
      "Processing Record 32 of set 4 | katsuura\n",
      "https://api.openweathermap.org/data/2.5/weather?appid=0204d957343167e2a018ed050b858666&q=torbay\n",
      "Processing Record 33 of set 4 | torbay\n",
      "https://api.openweathermap.org/data/2.5/weather?appid=0204d957343167e2a018ed050b858666&q=marsh harbour\n",
      "Processing Record 34 of set 4 | marsh harbour\n",
      "https://api.openweathermap.org/data/2.5/weather?appid=0204d957343167e2a018ed050b858666&q=port blair\n",
      "Processing Record 35 of set 4 | port blair\n",
      "https://api.openweathermap.org/data/2.5/weather?appid=0204d957343167e2a018ed050b858666&q=dolores\n",
      "Processing Record 36 of set 4 | dolores\n",
      "https://api.openweathermap.org/data/2.5/weather?appid=0204d957343167e2a018ed050b858666&q=guatire\n",
      "Processing Record 37 of set 4 | guatire\n",
      "https://api.openweathermap.org/data/2.5/weather?appid=0204d957343167e2a018ed050b858666&q=kindu\n",
      "Processing Record 38 of set 4 | kindu\n",
      "https://api.openweathermap.org/data/2.5/weather?appid=0204d957343167e2a018ed050b858666&q=alta floresta\n",
      "Processing Record 39 of set 4 | alta floresta\n",
      "https://api.openweathermap.org/data/2.5/weather?appid=0204d957343167e2a018ed050b858666&q=ponta do sol\n",
      "Processing Record 40 of set 4 | ponta do sol\n",
      "https://api.openweathermap.org/data/2.5/weather?appid=0204d957343167e2a018ed050b858666&q=yulara\n",
      "Processing Record 41 of set 4 | yulara\n",
      "https://api.openweathermap.org/data/2.5/weather?appid=0204d957343167e2a018ed050b858666&q=ishinomaki\n",
      "Processing Record 42 of set 4 | ishinomaki\n",
      "https://api.openweathermap.org/data/2.5/weather?appid=0204d957343167e2a018ed050b858666&q=tsiroanomandidy\n",
      "Processing Record 43 of set 4 | tsiroanomandidy\n",
      "https://api.openweathermap.org/data/2.5/weather?appid=0204d957343167e2a018ed050b858666&q=pevek\n",
      "Processing Record 44 of set 4 | pevek\n",
      "https://api.openweathermap.org/data/2.5/weather?appid=0204d957343167e2a018ed050b858666&q=dawlatabad\n",
      "Processing Record 45 of set 4 | dawlatabad\n",
      "https://api.openweathermap.org/data/2.5/weather?appid=0204d957343167e2a018ed050b858666&q=cidreira\n",
      "Processing Record 46 of set 4 | cidreira\n",
      "https://api.openweathermap.org/data/2.5/weather?appid=0204d957343167e2a018ed050b858666&q=sars\n",
      "Processing Record 47 of set 4 | sars\n",
      "https://api.openweathermap.org/data/2.5/weather?appid=0204d957343167e2a018ed050b858666&q=tumannyy\n",
      "City not found. Skipping..\n",
      "Processing Record 48 of set 4 | tumannyy\n",
      "https://api.openweathermap.org/data/2.5/weather?appid=0204d957343167e2a018ed050b858666&q=kuytun\n",
      "Processing Record 49 of set 4 | kuytun\n",
      "https://api.openweathermap.org/data/2.5/weather?appid=0204d957343167e2a018ed050b858666&q=lebu\n",
      "Processing Record 50 of set 4 | lebu\n",
      "https://api.openweathermap.org/data/2.5/weather?appid=0204d957343167e2a018ed050b858666&q=shancheng\n",
      "Processing Record 51 of set 4 | shancheng\n",
      "https://api.openweathermap.org/data/2.5/weather?appid=0204d957343167e2a018ed050b858666&q=chokurdakh\n",
      "Processing Record 1 of set 5 | chokurdakh\n",
      "https://api.openweathermap.org/data/2.5/weather?appid=0204d957343167e2a018ed050b858666&q=lewisporte\n",
      "Processing Record 2 of set 5 | lewisporte\n",
      "https://api.openweathermap.org/data/2.5/weather?appid=0204d957343167e2a018ed050b858666&q=sokoni\n",
      "Processing Record 3 of set 5 | sokoni\n",
      "https://api.openweathermap.org/data/2.5/weather?appid=0204d957343167e2a018ed050b858666&q=varadero\n",
      "Processing Record 4 of set 5 | varadero\n",
      "https://api.openweathermap.org/data/2.5/weather?appid=0204d957343167e2a018ed050b858666&q=alice springs\n",
      "Processing Record 5 of set 5 | alice springs\n",
      "https://api.openweathermap.org/data/2.5/weather?appid=0204d957343167e2a018ed050b858666&q=anantapur\n",
      "Processing Record 6 of set 5 | anantapur\n",
      "https://api.openweathermap.org/data/2.5/weather?appid=0204d957343167e2a018ed050b858666&q=dubovka\n",
      "Processing Record 7 of set 5 | dubovka\n",
      "https://api.openweathermap.org/data/2.5/weather?appid=0204d957343167e2a018ed050b858666&q=luderitz\n",
      "Processing Record 8 of set 5 | luderitz\n",
      "https://api.openweathermap.org/data/2.5/weather?appid=0204d957343167e2a018ed050b858666&q=iki-burul\n",
      "Processing Record 9 of set 5 | iki-burul\n",
      "https://api.openweathermap.org/data/2.5/weather?appid=0204d957343167e2a018ed050b858666&q=castro\n",
      "Processing Record 10 of set 5 | castro\n",
      "https://api.openweathermap.org/data/2.5/weather?appid=0204d957343167e2a018ed050b858666&q=upernavik\n",
      "Processing Record 11 of set 5 | upernavik\n",
      "https://api.openweathermap.org/data/2.5/weather?appid=0204d957343167e2a018ed050b858666&q=maceio\n",
      "Processing Record 12 of set 5 | maceio\n",
      "https://api.openweathermap.org/data/2.5/weather?appid=0204d957343167e2a018ed050b858666&q=ponerihouen\n",
      "Processing Record 13 of set 5 | ponerihouen\n",
      "https://api.openweathermap.org/data/2.5/weather?appid=0204d957343167e2a018ed050b858666&q=sistranda\n",
      "Processing Record 14 of set 5 | sistranda\n",
      "https://api.openweathermap.org/data/2.5/weather?appid=0204d957343167e2a018ed050b858666&q=petropavlovsk-kamchatskiy\n",
      "Processing Record 15 of set 5 | petropavlovsk-kamchatskiy\n",
      "https://api.openweathermap.org/data/2.5/weather?appid=0204d957343167e2a018ed050b858666&q=yairipok\n",
      "Processing Record 16 of set 5 | yairipok\n",
      "https://api.openweathermap.org/data/2.5/weather?appid=0204d957343167e2a018ed050b858666&q=port hardy\n",
      "Processing Record 17 of set 5 | port hardy\n",
      "https://api.openweathermap.org/data/2.5/weather?appid=0204d957343167e2a018ed050b858666&q=salalah\n",
      "Processing Record 18 of set 5 | salalah\n",
      "https://api.openweathermap.org/data/2.5/weather?appid=0204d957343167e2a018ed050b858666&q=geraldton\n",
      "Processing Record 19 of set 5 | geraldton\n",
      "https://api.openweathermap.org/data/2.5/weather?appid=0204d957343167e2a018ed050b858666&q=mahebourg\n",
      "Processing Record 20 of set 5 | mahebourg\n",
      "https://api.openweathermap.org/data/2.5/weather?appid=0204d957343167e2a018ed050b858666&q=aklavik\n",
      "Processing Record 21 of set 5 | aklavik\n",
      "https://api.openweathermap.org/data/2.5/weather?appid=0204d957343167e2a018ed050b858666&q=koster\n",
      "Processing Record 22 of set 5 | koster\n",
      "https://api.openweathermap.org/data/2.5/weather?appid=0204d957343167e2a018ed050b858666&q=skeldon\n",
      "Processing Record 23 of set 5 | skeldon\n",
      "https://api.openweathermap.org/data/2.5/weather?appid=0204d957343167e2a018ed050b858666&q=bay roberts\n",
      "Processing Record 24 of set 5 | bay roberts\n",
      "https://api.openweathermap.org/data/2.5/weather?appid=0204d957343167e2a018ed050b858666&q=ketchikan\n",
      "Processing Record 25 of set 5 | ketchikan\n",
      "https://api.openweathermap.org/data/2.5/weather?appid=0204d957343167e2a018ed050b858666&q=lake havasu city\n",
      "Processing Record 26 of set 5 | lake havasu city\n",
      "https://api.openweathermap.org/data/2.5/weather?appid=0204d957343167e2a018ed050b858666&q=gat\n",
      "Processing Record 27 of set 5 | gat\n",
      "https://api.openweathermap.org/data/2.5/weather?appid=0204d957343167e2a018ed050b858666&q=ugoofaaru\n",
      "Processing Record 28 of set 5 | ugoofaaru\n",
      "https://api.openweathermap.org/data/2.5/weather?appid=0204d957343167e2a018ed050b858666&q=morant bay\n",
      "Processing Record 29 of set 5 | morant bay\n",
      "https://api.openweathermap.org/data/2.5/weather?appid=0204d957343167e2a018ed050b858666&q=la asuncion\n",
      "Processing Record 30 of set 5 | la asuncion\n",
      "https://api.openweathermap.org/data/2.5/weather?appid=0204d957343167e2a018ed050b858666&q=berdyuzhye\n"
     ]
    },
    {
     "name": "stdout",
     "output_type": "stream",
     "text": [
      "City not found. Skipping..\n",
      "Processing Record 31 of set 5 | berdyuzhye\n",
      "https://api.openweathermap.org/data/2.5/weather?appid=0204d957343167e2a018ed050b858666&q=mount gambier\n",
      "Processing Record 32 of set 5 | mount gambier\n",
      "https://api.openweathermap.org/data/2.5/weather?appid=0204d957343167e2a018ed050b858666&q=turukhansk\n",
      "Processing Record 33 of set 5 | turukhansk\n",
      "https://api.openweathermap.org/data/2.5/weather?appid=0204d957343167e2a018ed050b858666&q=sindor\n",
      "Processing Record 34 of set 5 | sindor\n",
      "https://api.openweathermap.org/data/2.5/weather?appid=0204d957343167e2a018ed050b858666&q=santa cruz\n",
      "Processing Record 35 of set 5 | santa cruz\n",
      "https://api.openweathermap.org/data/2.5/weather?appid=0204d957343167e2a018ed050b858666&q=teya\n",
      "Processing Record 36 of set 5 | teya\n",
      "https://api.openweathermap.org/data/2.5/weather?appid=0204d957343167e2a018ed050b858666&q=utiroa\n",
      "City not found. Skipping..\n",
      "Processing Record 37 of set 5 | utiroa\n",
      "https://api.openweathermap.org/data/2.5/weather?appid=0204d957343167e2a018ed050b858666&q=dunedin\n",
      "Processing Record 38 of set 5 | dunedin\n",
      "https://api.openweathermap.org/data/2.5/weather?appid=0204d957343167e2a018ed050b858666&q=sao joao da barra\n",
      "Processing Record 39 of set 5 | sao joao da barra\n",
      "https://api.openweathermap.org/data/2.5/weather?appid=0204d957343167e2a018ed050b858666&q=witrivier\n",
      "City not found. Skipping..\n",
      "Processing Record 40 of set 5 | witrivier\n",
      "https://api.openweathermap.org/data/2.5/weather?appid=0204d957343167e2a018ed050b858666&q=vyazemskiy\n",
      "Processing Record 41 of set 5 | vyazemskiy\n",
      "https://api.openweathermap.org/data/2.5/weather?appid=0204d957343167e2a018ed050b858666&q=hirara\n",
      "Processing Record 42 of set 5 | hirara\n",
      "https://api.openweathermap.org/data/2.5/weather?appid=0204d957343167e2a018ed050b858666&q=galesong\n",
      "Processing Record 43 of set 5 | galesong\n",
      "https://api.openweathermap.org/data/2.5/weather?appid=0204d957343167e2a018ed050b858666&q=arrifes\n",
      "Processing Record 44 of set 5 | arrifes\n",
      "https://api.openweathermap.org/data/2.5/weather?appid=0204d957343167e2a018ed050b858666&q=belushya guba\n",
      "City not found. Skipping..\n",
      "Processing Record 45 of set 5 | belushya guba\n",
      "https://api.openweathermap.org/data/2.5/weather?appid=0204d957343167e2a018ed050b858666&q=lompoc\n",
      "Processing Record 46 of set 5 | lompoc\n",
      "https://api.openweathermap.org/data/2.5/weather?appid=0204d957343167e2a018ed050b858666&q=katha\n",
      "City not found. Skipping..\n",
      "Processing Record 47 of set 5 | katha\n",
      "https://api.openweathermap.org/data/2.5/weather?appid=0204d957343167e2a018ed050b858666&q=aflu\n",
      "City not found. Skipping..\n",
      "Processing Record 48 of set 5 | aflu\n",
      "https://api.openweathermap.org/data/2.5/weather?appid=0204d957343167e2a018ed050b858666&q=leningradskiy\n",
      "Processing Record 49 of set 5 | leningradskiy\n",
      "https://api.openweathermap.org/data/2.5/weather?appid=0204d957343167e2a018ed050b858666&q=byron bay\n",
      "Processing Record 50 of set 5 | byron bay\n",
      "https://api.openweathermap.org/data/2.5/weather?appid=0204d957343167e2a018ed050b858666&q=poopo\n",
      "Processing Record 51 of set 5 | poopo\n",
      "https://api.openweathermap.org/data/2.5/weather?appid=0204d957343167e2a018ed050b858666&q=mys shmidta\n",
      "City not found. Skipping..\n",
      "Processing Record 1 of set 6 | mys shmidta\n",
      "https://api.openweathermap.org/data/2.5/weather?appid=0204d957343167e2a018ed050b858666&q=rietavas\n",
      "Processing Record 2 of set 6 | rietavas\n",
      "https://api.openweathermap.org/data/2.5/weather?appid=0204d957343167e2a018ed050b858666&q=buta\n",
      "Processing Record 3 of set 6 | buta\n",
      "https://api.openweathermap.org/data/2.5/weather?appid=0204d957343167e2a018ed050b858666&q=alekseyevka\n",
      "Processing Record 4 of set 6 | alekseyevka\n",
      "https://api.openweathermap.org/data/2.5/weather?appid=0204d957343167e2a018ed050b858666&q=asfi\n",
      "Processing Record 5 of set 6 | asfi\n",
      "https://api.openweathermap.org/data/2.5/weather?appid=0204d957343167e2a018ed050b858666&q=vangaindrano\n",
      "Processing Record 6 of set 6 | vangaindrano\n",
      "https://api.openweathermap.org/data/2.5/weather?appid=0204d957343167e2a018ed050b858666&q=avera\n",
      "Processing Record 7 of set 6 | avera\n",
      "https://api.openweathermap.org/data/2.5/weather?appid=0204d957343167e2a018ed050b858666&q=naze\n",
      "Processing Record 8 of set 6 | naze\n",
      "https://api.openweathermap.org/data/2.5/weather?appid=0204d957343167e2a018ed050b858666&q=bathsheba\n",
      "Processing Record 9 of set 6 | bathsheba\n",
      "https://api.openweathermap.org/data/2.5/weather?appid=0204d957343167e2a018ed050b858666&q=flinders\n",
      "Processing Record 10 of set 6 | flinders\n",
      "https://api.openweathermap.org/data/2.5/weather?appid=0204d957343167e2a018ed050b858666&q=ngudu\n",
      "Processing Record 11 of set 6 | ngudu\n",
      "https://api.openweathermap.org/data/2.5/weather?appid=0204d957343167e2a018ed050b858666&q=saint-augustin\n",
      "Processing Record 12 of set 6 | saint-augustin\n",
      "https://api.openweathermap.org/data/2.5/weather?appid=0204d957343167e2a018ed050b858666&q=victoria\n",
      "Processing Record 13 of set 6 | victoria\n",
      "https://api.openweathermap.org/data/2.5/weather?appid=0204d957343167e2a018ed050b858666&q=bam\n",
      "Processing Record 14 of set 6 | bam\n",
      "https://api.openweathermap.org/data/2.5/weather?appid=0204d957343167e2a018ed050b858666&q=longyearbyen\n",
      "Processing Record 15 of set 6 | longyearbyen\n",
      "https://api.openweathermap.org/data/2.5/weather?appid=0204d957343167e2a018ed050b858666&q=vestbygda\n",
      "City not found. Skipping..\n",
      "Processing Record 16 of set 6 | vestbygda\n",
      "https://api.openweathermap.org/data/2.5/weather?appid=0204d957343167e2a018ed050b858666&q=orlik\n",
      "Processing Record 17 of set 6 | orlik\n",
      "https://api.openweathermap.org/data/2.5/weather?appid=0204d957343167e2a018ed050b858666&q=urdzhar\n",
      "City not found. Skipping..\n",
      "Processing Record 18 of set 6 | urdzhar\n",
      "https://api.openweathermap.org/data/2.5/weather?appid=0204d957343167e2a018ed050b858666&q=kloulklubed\n",
      "Processing Record 19 of set 6 | kloulklubed\n",
      "https://api.openweathermap.org/data/2.5/weather?appid=0204d957343167e2a018ed050b858666&q=paamiut\n",
      "Processing Record 20 of set 6 | paamiut\n",
      "https://api.openweathermap.org/data/2.5/weather?appid=0204d957343167e2a018ed050b858666&q=huarmey\n",
      "Processing Record 21 of set 6 | huarmey\n",
      "https://api.openweathermap.org/data/2.5/weather?appid=0204d957343167e2a018ed050b858666&q=isangel\n",
      "Processing Record 22 of set 6 | isangel\n",
      "https://api.openweathermap.org/data/2.5/weather?appid=0204d957343167e2a018ed050b858666&q=corinto\n",
      "Processing Record 23 of set 6 | corinto\n",
      "https://api.openweathermap.org/data/2.5/weather?appid=0204d957343167e2a018ed050b858666&q=porto belo\n",
      "Processing Record 24 of set 6 | porto belo\n",
      "https://api.openweathermap.org/data/2.5/weather?appid=0204d957343167e2a018ed050b858666&q=tuktoyaktuk\n",
      "Processing Record 25 of set 6 | tuktoyaktuk\n",
      "https://api.openweathermap.org/data/2.5/weather?appid=0204d957343167e2a018ed050b858666&q=portsmouth\n",
      "Processing Record 26 of set 6 | portsmouth\n",
      "https://api.openweathermap.org/data/2.5/weather?appid=0204d957343167e2a018ed050b858666&q=boden\n",
      "Processing Record 27 of set 6 | boden\n",
      "https://api.openweathermap.org/data/2.5/weather?appid=0204d957343167e2a018ed050b858666&q=olafsvik\n",
      "Processing Record 28 of set 6 | olafsvik\n",
      "https://api.openweathermap.org/data/2.5/weather?appid=0204d957343167e2a018ed050b858666&q=dudinka\n",
      "Processing Record 29 of set 6 | dudinka\n",
      "https://api.openweathermap.org/data/2.5/weather?appid=0204d957343167e2a018ed050b858666&q=camocim\n",
      "Processing Record 30 of set 6 | camocim\n",
      "https://api.openweathermap.org/data/2.5/weather?appid=0204d957343167e2a018ed050b858666&q=wajima\n",
      "Processing Record 31 of set 6 | wajima\n",
      "https://api.openweathermap.org/data/2.5/weather?appid=0204d957343167e2a018ed050b858666&q=gogrial\n",
      "Processing Record 32 of set 6 | gogrial\n",
      "https://api.openweathermap.org/data/2.5/weather?appid=0204d957343167e2a018ed050b858666&q=koyelga\n",
      "Processing Record 33 of set 6 | koyelga\n",
      "https://api.openweathermap.org/data/2.5/weather?appid=0204d957343167e2a018ed050b858666&q=asau\n",
      "Processing Record 34 of set 6 | asau\n",
      "https://api.openweathermap.org/data/2.5/weather?appid=0204d957343167e2a018ed050b858666&q=pandan\n",
      "Processing Record 35 of set 6 | pandan\n",
      "https://api.openweathermap.org/data/2.5/weather?appid=0204d957343167e2a018ed050b858666&q=quatre cocos\n",
      "Processing Record 36 of set 6 | quatre cocos\n",
      "https://api.openweathermap.org/data/2.5/weather?appid=0204d957343167e2a018ed050b858666&q=parainen\n",
      "Processing Record 37 of set 6 | parainen\n",
      "https://api.openweathermap.org/data/2.5/weather?appid=0204d957343167e2a018ed050b858666&q=ulety\n"
     ]
    },
    {
     "name": "stdout",
     "output_type": "stream",
     "text": [
      "Processing Record 38 of set 6 | ulety\n",
      "https://api.openweathermap.org/data/2.5/weather?appid=0204d957343167e2a018ed050b858666&q=jibuti\n",
      "Processing Record 39 of set 6 | jibuti\n",
      "https://api.openweathermap.org/data/2.5/weather?appid=0204d957343167e2a018ed050b858666&q=acajutla\n",
      "Processing Record 40 of set 6 | acajutla\n",
      "https://api.openweathermap.org/data/2.5/weather?appid=0204d957343167e2a018ed050b858666&q=alofi\n",
      "Processing Record 41 of set 6 | alofi\n",
      "https://api.openweathermap.org/data/2.5/weather?appid=0204d957343167e2a018ed050b858666&q=kichera\n",
      "Processing Record 42 of set 6 | kichera\n",
      "https://api.openweathermap.org/data/2.5/weather?appid=0204d957343167e2a018ed050b858666&q=palabuhanratu\n",
      "City not found. Skipping..\n",
      "Processing Record 43 of set 6 | palabuhanratu\n",
      "https://api.openweathermap.org/data/2.5/weather?appid=0204d957343167e2a018ed050b858666&q=nesebar\n",
      "Processing Record 44 of set 6 | nesebar\n",
      "https://api.openweathermap.org/data/2.5/weather?appid=0204d957343167e2a018ed050b858666&q=buraydah\n",
      "Processing Record 45 of set 6 | buraydah\n",
      "https://api.openweathermap.org/data/2.5/weather?appid=0204d957343167e2a018ed050b858666&q=sanchez\n",
      "Processing Record 46 of set 6 | sanchez\n",
      "https://api.openweathermap.org/data/2.5/weather?appid=0204d957343167e2a018ed050b858666&q=passagem franca\n",
      "Processing Record 47 of set 6 | passagem franca\n",
      "https://api.openweathermap.org/data/2.5/weather?appid=0204d957343167e2a018ed050b858666&q=nishihara\n",
      "Processing Record 48 of set 6 | nishihara\n",
      "https://api.openweathermap.org/data/2.5/weather?appid=0204d957343167e2a018ed050b858666&q=nakambala\n",
      "Processing Record 49 of set 6 | nakambala\n",
      "https://api.openweathermap.org/data/2.5/weather?appid=0204d957343167e2a018ed050b858666&q=damghan\n",
      "Processing Record 50 of set 6 | damghan\n",
      "https://api.openweathermap.org/data/2.5/weather?appid=0204d957343167e2a018ed050b858666&q=kaina\n",
      "Processing Record 51 of set 6 | kaina\n",
      "https://api.openweathermap.org/data/2.5/weather?appid=0204d957343167e2a018ed050b858666&q=koumac\n",
      "Processing Record 1 of set 7 | koumac\n",
      "https://api.openweathermap.org/data/2.5/weather?appid=0204d957343167e2a018ed050b858666&q=puntarenas\n",
      "Processing Record 2 of set 7 | puntarenas\n",
      "https://api.openweathermap.org/data/2.5/weather?appid=0204d957343167e2a018ed050b858666&q=guerrero negro\n",
      "Processing Record 3 of set 7 | guerrero negro\n",
      "https://api.openweathermap.org/data/2.5/weather?appid=0204d957343167e2a018ed050b858666&q=miranorte\n",
      "City not found. Skipping..\n",
      "Processing Record 4 of set 7 | miranorte\n",
      "https://api.openweathermap.org/data/2.5/weather?appid=0204d957343167e2a018ed050b858666&q=constitucion\n",
      "Processing Record 5 of set 7 | constitucion\n",
      "https://api.openweathermap.org/data/2.5/weather?appid=0204d957343167e2a018ed050b858666&q=sambava\n",
      "Processing Record 6 of set 7 | sambava\n",
      "https://api.openweathermap.org/data/2.5/weather?appid=0204d957343167e2a018ed050b858666&q=ostersund\n",
      "Processing Record 7 of set 7 | ostersund\n",
      "https://api.openweathermap.org/data/2.5/weather?appid=0204d957343167e2a018ed050b858666&q=mercedes\n",
      "Processing Record 8 of set 7 | mercedes\n",
      "https://api.openweathermap.org/data/2.5/weather?appid=0204d957343167e2a018ed050b858666&q=bucerias\n",
      "Processing Record 9 of set 7 | bucerias\n",
      "https://api.openweathermap.org/data/2.5/weather?appid=0204d957343167e2a018ed050b858666&q=luganville\n",
      "Processing Record 10 of set 7 | luganville\n",
      "https://api.openweathermap.org/data/2.5/weather?appid=0204d957343167e2a018ed050b858666&q=tura\n",
      "Processing Record 11 of set 7 | tura\n",
      "https://api.openweathermap.org/data/2.5/weather?appid=0204d957343167e2a018ed050b858666&q=borovoy\n",
      "Processing Record 12 of set 7 | borovoy\n",
      "https://api.openweathermap.org/data/2.5/weather?appid=0204d957343167e2a018ed050b858666&q=olgod\n",
      "Processing Record 13 of set 7 | olgod\n",
      "https://api.openweathermap.org/data/2.5/weather?appid=0204d957343167e2a018ed050b858666&q=poum\n",
      "Processing Record 14 of set 7 | poum\n",
      "https://api.openweathermap.org/data/2.5/weather?appid=0204d957343167e2a018ed050b858666&q=hambantota\n",
      "Processing Record 15 of set 7 | hambantota\n",
      "https://api.openweathermap.org/data/2.5/weather?appid=0204d957343167e2a018ed050b858666&q=cooma\n",
      "Processing Record 16 of set 7 | cooma\n",
      "https://api.openweathermap.org/data/2.5/weather?appid=0204d957343167e2a018ed050b858666&q=ahuimanu\n",
      "Processing Record 17 of set 7 | ahuimanu\n",
      "https://api.openweathermap.org/data/2.5/weather?appid=0204d957343167e2a018ed050b858666&q=norilsk\n",
      "Processing Record 18 of set 7 | norilsk\n",
      "https://api.openweathermap.org/data/2.5/weather?appid=0204d957343167e2a018ed050b858666&q=burriana\n",
      "Processing Record 19 of set 7 | burriana\n",
      "https://api.openweathermap.org/data/2.5/weather?appid=0204d957343167e2a018ed050b858666&q=tasbuget\n",
      "City not found. Skipping..\n",
      "Processing Record 20 of set 7 | tasbuget\n",
      "https://api.openweathermap.org/data/2.5/weather?appid=0204d957343167e2a018ed050b858666&q=road town\n",
      "Processing Record 21 of set 7 | road town\n",
      "https://api.openweathermap.org/data/2.5/weather?appid=0204d957343167e2a018ed050b858666&q=hihifo\n",
      "City not found. Skipping..\n",
      "Processing Record 22 of set 7 | hihifo\n",
      "https://api.openweathermap.org/data/2.5/weather?appid=0204d957343167e2a018ed050b858666&q=montepuez\n",
      "Processing Record 23 of set 7 | montepuez\n",
      "https://api.openweathermap.org/data/2.5/weather?appid=0204d957343167e2a018ed050b858666&q=augusta\n",
      "Processing Record 24 of set 7 | augusta\n",
      "https://api.openweathermap.org/data/2.5/weather?appid=0204d957343167e2a018ed050b858666&q=lisakovsk\n",
      "Processing Record 25 of set 7 | lisakovsk\n",
      "https://api.openweathermap.org/data/2.5/weather?appid=0204d957343167e2a018ed050b858666&q=hasaki\n",
      "Processing Record 26 of set 7 | hasaki\n",
      "https://api.openweathermap.org/data/2.5/weather?appid=0204d957343167e2a018ed050b858666&q=tuatapere\n",
      "Processing Record 27 of set 7 | tuatapere\n",
      "https://api.openweathermap.org/data/2.5/weather?appid=0204d957343167e2a018ed050b858666&q=meulaboh\n",
      "Processing Record 28 of set 7 | meulaboh\n",
      "https://api.openweathermap.org/data/2.5/weather?appid=0204d957343167e2a018ed050b858666&q=axim\n",
      "Processing Record 29 of set 7 | axim\n",
      "https://api.openweathermap.org/data/2.5/weather?appid=0204d957343167e2a018ed050b858666&q=grand centre\n",
      "City not found. Skipping..\n",
      "Processing Record 30 of set 7 | grand centre\n",
      "https://api.openweathermap.org/data/2.5/weather?appid=0204d957343167e2a018ed050b858666&q=praia\n",
      "Processing Record 31 of set 7 | praia\n",
      "https://api.openweathermap.org/data/2.5/weather?appid=0204d957343167e2a018ed050b858666&q=richards bay\n",
      "Processing Record 32 of set 7 | richards bay\n",
      "https://api.openweathermap.org/data/2.5/weather?appid=0204d957343167e2a018ed050b858666&q=bubaque\n",
      "Processing Record 33 of set 7 | bubaque\n",
      "https://api.openweathermap.org/data/2.5/weather?appid=0204d957343167e2a018ed050b858666&q=kimbe\n",
      "Processing Record 34 of set 7 | kimbe\n",
      "https://api.openweathermap.org/data/2.5/weather?appid=0204d957343167e2a018ed050b858666&q=lasa\n",
      "Processing Record 35 of set 7 | lasa\n",
      "https://api.openweathermap.org/data/2.5/weather?appid=0204d957343167e2a018ed050b858666&q=pokhara\n",
      "Processing Record 36 of set 7 | pokhara\n",
      "https://api.openweathermap.org/data/2.5/weather?appid=0204d957343167e2a018ed050b858666&q=partur\n",
      "Processing Record 37 of set 7 | partur\n",
      "https://api.openweathermap.org/data/2.5/weather?appid=0204d957343167e2a018ed050b858666&q=ayan\n",
      "Processing Record 38 of set 7 | ayan\n",
      "https://api.openweathermap.org/data/2.5/weather?appid=0204d957343167e2a018ed050b858666&q=okhotsk\n",
      "Processing Record 39 of set 7 | okhotsk\n",
      "https://api.openweathermap.org/data/2.5/weather?appid=0204d957343167e2a018ed050b858666&q=roald\n",
      "Processing Record 40 of set 7 | roald\n",
      "https://api.openweathermap.org/data/2.5/weather?appid=0204d957343167e2a018ed050b858666&q=nangong\n",
      "Processing Record 41 of set 7 | nangong\n",
      "https://api.openweathermap.org/data/2.5/weather?appid=0204d957343167e2a018ed050b858666&q=tiarei\n",
      "Processing Record 42 of set 7 | tiarei\n",
      "https://api.openweathermap.org/data/2.5/weather?appid=0204d957343167e2a018ed050b858666&q=zhanatas\n",
      "City not found. Skipping..\n",
      "Processing Record 43 of set 7 | zhanatas\n",
      "https://api.openweathermap.org/data/2.5/weather?appid=0204d957343167e2a018ed050b858666&q=staroutkinsk\n",
      "Processing Record 44 of set 7 | staroutkinsk\n",
      "https://api.openweathermap.org/data/2.5/weather?appid=0204d957343167e2a018ed050b858666&q=bakel\n",
      "Processing Record 45 of set 7 | bakel\n",
      "https://api.openweathermap.org/data/2.5/weather?appid=0204d957343167e2a018ed050b858666&q=dingle\n",
      "Processing Record 46 of set 7 | dingle\n",
      "https://api.openweathermap.org/data/2.5/weather?appid=0204d957343167e2a018ed050b858666&q=batemans bay\n"
     ]
    },
    {
     "name": "stdout",
     "output_type": "stream",
     "text": [
      "Processing Record 47 of set 7 | batemans bay\n",
      "https://api.openweathermap.org/data/2.5/weather?appid=0204d957343167e2a018ed050b858666&q=tiznit\n",
      "Processing Record 48 of set 7 | tiznit\n",
      "https://api.openweathermap.org/data/2.5/weather?appid=0204d957343167e2a018ed050b858666&q=khatanga\n",
      "Processing Record 49 of set 7 | khatanga\n",
      "https://api.openweathermap.org/data/2.5/weather?appid=0204d957343167e2a018ed050b858666&q=samarai\n",
      "Processing Record 50 of set 7 | samarai\n",
      "https://api.openweathermap.org/data/2.5/weather?appid=0204d957343167e2a018ed050b858666&q=abu kamal\n",
      "Processing Record 51 of set 7 | abu kamal\n",
      "https://api.openweathermap.org/data/2.5/weather?appid=0204d957343167e2a018ed050b858666&q=andenes\n",
      "Processing Record 1 of set 8 | andenes\n",
      "https://api.openweathermap.org/data/2.5/weather?appid=0204d957343167e2a018ed050b858666&q=santiago del estero\n",
      "Processing Record 2 of set 8 | santiago del estero\n",
      "https://api.openweathermap.org/data/2.5/weather?appid=0204d957343167e2a018ed050b858666&q=barreirinha\n",
      "Processing Record 3 of set 8 | barreirinha\n",
      "https://api.openweathermap.org/data/2.5/weather?appid=0204d957343167e2a018ed050b858666&q=mangrol\n",
      "Processing Record 4 of set 8 | mangrol\n",
      "https://api.openweathermap.org/data/2.5/weather?appid=0204d957343167e2a018ed050b858666&q=kamenka\n",
      "Processing Record 5 of set 8 | kamenka\n",
      "https://api.openweathermap.org/data/2.5/weather?appid=0204d957343167e2a018ed050b858666&q=cabo san lucas\n",
      "Processing Record 6 of set 8 | cabo san lucas\n",
      "https://api.openweathermap.org/data/2.5/weather?appid=0204d957343167e2a018ed050b858666&q=lorengau\n",
      "Processing Record 7 of set 8 | lorengau\n",
      "https://api.openweathermap.org/data/2.5/weather?appid=0204d957343167e2a018ed050b858666&q=deputatskiy\n",
      "Processing Record 8 of set 8 | deputatskiy\n",
      "https://api.openweathermap.org/data/2.5/weather?appid=0204d957343167e2a018ed050b858666&q=uruzgan\n",
      "Processing Record 9 of set 8 | uruzgan\n",
      "https://api.openweathermap.org/data/2.5/weather?appid=0204d957343167e2a018ed050b858666&q=rio grande\n",
      "Processing Record 10 of set 8 | rio grande\n",
      "https://api.openweathermap.org/data/2.5/weather?appid=0204d957343167e2a018ed050b858666&q=eyl\n",
      "Processing Record 11 of set 8 | eyl\n",
      "https://api.openweathermap.org/data/2.5/weather?appid=0204d957343167e2a018ed050b858666&q=warqla\n",
      "City not found. Skipping..\n",
      "Processing Record 12 of set 8 | warqla\n",
      "https://api.openweathermap.org/data/2.5/weather?appid=0204d957343167e2a018ed050b858666&q=nikolskoye\n",
      "Processing Record 13 of set 8 | nikolskoye\n",
      "https://api.openweathermap.org/data/2.5/weather?appid=0204d957343167e2a018ed050b858666&q=staunton\n",
      "Processing Record 14 of set 8 | staunton\n",
      "https://api.openweathermap.org/data/2.5/weather?appid=0204d957343167e2a018ed050b858666&q=iqaluit\n",
      "Processing Record 15 of set 8 | iqaluit\n",
      "https://api.openweathermap.org/data/2.5/weather?appid=0204d957343167e2a018ed050b858666&q=narsaq\n",
      "Processing Record 16 of set 8 | narsaq\n",
      "https://api.openweathermap.org/data/2.5/weather?appid=0204d957343167e2a018ed050b858666&q=chagda\n",
      "City not found. Skipping..\n",
      "Processing Record 17 of set 8 | chagda\n",
      "https://api.openweathermap.org/data/2.5/weather?appid=0204d957343167e2a018ed050b858666&q=kenai\n",
      "Processing Record 18 of set 8 | kenai\n",
      "https://api.openweathermap.org/data/2.5/weather?appid=0204d957343167e2a018ed050b858666&q=harqalah\n",
      "Processing Record 19 of set 8 | harqalah\n",
      "https://api.openweathermap.org/data/2.5/weather?appid=0204d957343167e2a018ed050b858666&q=parnarama\n",
      "Processing Record 20 of set 8 | parnarama\n",
      "https://api.openweathermap.org/data/2.5/weather?appid=0204d957343167e2a018ed050b858666&q=san isidro\n",
      "Processing Record 21 of set 8 | san isidro\n",
      "https://api.openweathermap.org/data/2.5/weather?appid=0204d957343167e2a018ed050b858666&q=ahipara\n",
      "Processing Record 22 of set 8 | ahipara\n",
      "https://api.openweathermap.org/data/2.5/weather?appid=0204d957343167e2a018ed050b858666&q=havoysund\n",
      "Processing Record 23 of set 8 | havoysund\n",
      "https://api.openweathermap.org/data/2.5/weather?appid=0204d957343167e2a018ed050b858666&q=nieuwpoort\n",
      "Processing Record 24 of set 8 | nieuwpoort\n",
      "https://api.openweathermap.org/data/2.5/weather?appid=0204d957343167e2a018ed050b858666&q=banda aceh\n",
      "Processing Record 25 of set 8 | banda aceh\n",
      "https://api.openweathermap.org/data/2.5/weather?appid=0204d957343167e2a018ed050b858666&q=moncton\n",
      "Processing Record 26 of set 8 | moncton\n",
      "https://api.openweathermap.org/data/2.5/weather?appid=0204d957343167e2a018ed050b858666&q=villa union\n",
      "Processing Record 27 of set 8 | villa union\n",
      "https://api.openweathermap.org/data/2.5/weather?appid=0204d957343167e2a018ed050b858666&q=leh\n",
      "Processing Record 28 of set 8 | leh\n",
      "https://api.openweathermap.org/data/2.5/weather?appid=0204d957343167e2a018ed050b858666&q=bugene\n",
      "Processing Record 29 of set 8 | bugene\n",
      "https://api.openweathermap.org/data/2.5/weather?appid=0204d957343167e2a018ed050b858666&q=jiazi\n",
      "Processing Record 30 of set 8 | jiazi\n",
      "https://api.openweathermap.org/data/2.5/weather?appid=0204d957343167e2a018ed050b858666&q=ponta delgada\n",
      "Processing Record 31 of set 8 | ponta delgada\n",
      "https://api.openweathermap.org/data/2.5/weather?appid=0204d957343167e2a018ed050b858666&q=guapore\n",
      "Processing Record 32 of set 8 | guapore\n",
      "https://api.openweathermap.org/data/2.5/weather?appid=0204d957343167e2a018ed050b858666&q=bundaberg\n",
      "Processing Record 33 of set 8 | bundaberg\n",
      "https://api.openweathermap.org/data/2.5/weather?appid=0204d957343167e2a018ed050b858666&q=san cristobal\n",
      "Processing Record 34 of set 8 | san cristobal\n",
      "https://api.openweathermap.org/data/2.5/weather?appid=0204d957343167e2a018ed050b858666&q=kouango\n",
      "Processing Record 35 of set 8 | kouango\n",
      "https://api.openweathermap.org/data/2.5/weather?appid=0204d957343167e2a018ed050b858666&q=kushima\n",
      "Processing Record 36 of set 8 | kushima\n",
      "https://api.openweathermap.org/data/2.5/weather?appid=0204d957343167e2a018ed050b858666&q=voka\n",
      "Processing Record 37 of set 8 | voka\n",
      "https://api.openweathermap.org/data/2.5/weather?appid=0204d957343167e2a018ed050b858666&q=komsomolskiy\n",
      "Processing Record 38 of set 8 | komsomolskiy\n",
      "https://api.openweathermap.org/data/2.5/weather?appid=0204d957343167e2a018ed050b858666&q=sale\n",
      "Processing Record 39 of set 8 | sale\n",
      "https://api.openweathermap.org/data/2.5/weather?appid=0204d957343167e2a018ed050b858666&q=den helder\n",
      "Processing Record 40 of set 8 | den helder\n",
      "https://api.openweathermap.org/data/2.5/weather?appid=0204d957343167e2a018ed050b858666&q=cayenne\n",
      "Processing Record 41 of set 8 | cayenne\n",
      "https://api.openweathermap.org/data/2.5/weather?appid=0204d957343167e2a018ed050b858666&q=navalcarnero\n",
      "Processing Record 42 of set 8 | navalcarnero\n",
      "https://api.openweathermap.org/data/2.5/weather?appid=0204d957343167e2a018ed050b858666&q=itainopolis\n",
      "Processing Record 43 of set 8 | itainopolis\n",
      "https://api.openweathermap.org/data/2.5/weather?appid=0204d957343167e2a018ed050b858666&q=sibu\n",
      "Processing Record 44 of set 8 | sibu\n",
      "https://api.openweathermap.org/data/2.5/weather?appid=0204d957343167e2a018ed050b858666&q=barcelos\n",
      "Processing Record 45 of set 8 | barcelos\n",
      "https://api.openweathermap.org/data/2.5/weather?appid=0204d957343167e2a018ed050b858666&q=dalaba\n",
      "Processing Record 46 of set 8 | dalaba\n",
      "https://api.openweathermap.org/data/2.5/weather?appid=0204d957343167e2a018ed050b858666&q=fort collins\n",
      "Processing Record 47 of set 8 | fort collins\n",
      "https://api.openweathermap.org/data/2.5/weather?appid=0204d957343167e2a018ed050b858666&q=kewanee\n",
      "Processing Record 48 of set 8 | kewanee\n",
      "https://api.openweathermap.org/data/2.5/weather?appid=0204d957343167e2a018ed050b858666&q=lagoa\n",
      "Processing Record 49 of set 8 | lagoa\n",
      "https://api.openweathermap.org/data/2.5/weather?appid=0204d957343167e2a018ed050b858666&q=maloy\n",
      "Processing Record 50 of set 8 | maloy\n",
      "https://api.openweathermap.org/data/2.5/weather?appid=0204d957343167e2a018ed050b858666&q=vabalninkas\n",
      "Processing Record 51 of set 8 | vabalninkas\n",
      "https://api.openweathermap.org/data/2.5/weather?appid=0204d957343167e2a018ed050b858666&q=san ignacio\n",
      "Processing Record 1 of set 9 | san ignacio\n",
      "https://api.openweathermap.org/data/2.5/weather?appid=0204d957343167e2a018ed050b858666&q=the valley\n",
      "Processing Record 2 of set 9 | the valley\n",
      "https://api.openweathermap.org/data/2.5/weather?appid=0204d957343167e2a018ed050b858666&q=puerto narino\n",
      "Processing Record 3 of set 9 | puerto narino\n",
      "https://api.openweathermap.org/data/2.5/weather?appid=0204d957343167e2a018ed050b858666&q=yatou\n"
     ]
    },
    {
     "name": "stdout",
     "output_type": "stream",
     "text": [
      "Processing Record 4 of set 9 | yatou\n",
      "https://api.openweathermap.org/data/2.5/weather?appid=0204d957343167e2a018ed050b858666&q=abha\n",
      "Processing Record 5 of set 9 | abha\n",
      "https://api.openweathermap.org/data/2.5/weather?appid=0204d957343167e2a018ed050b858666&q=vestmannaeyjar\n",
      "Processing Record 6 of set 9 | vestmannaeyjar\n",
      "https://api.openweathermap.org/data/2.5/weather?appid=0204d957343167e2a018ed050b858666&q=bandarbeyla\n",
      "Processing Record 7 of set 9 | bandarbeyla\n",
      "https://api.openweathermap.org/data/2.5/weather?appid=0204d957343167e2a018ed050b858666&q=seoul\n",
      "Processing Record 8 of set 9 | seoul\n",
      "https://api.openweathermap.org/data/2.5/weather?appid=0204d957343167e2a018ed050b858666&q=tulun\n",
      "Processing Record 9 of set 9 | tulun\n",
      "https://api.openweathermap.org/data/2.5/weather?appid=0204d957343167e2a018ed050b858666&q=shieli\n",
      "Processing Record 10 of set 9 | shieli\n",
      "https://api.openweathermap.org/data/2.5/weather?appid=0204d957343167e2a018ed050b858666&q=emerald\n",
      "Processing Record 11 of set 9 | emerald\n",
      "https://api.openweathermap.org/data/2.5/weather?appid=0204d957343167e2a018ed050b858666&q=cap malheureux\n",
      "Processing Record 12 of set 9 | cap malheureux\n",
      "https://api.openweathermap.org/data/2.5/weather?appid=0204d957343167e2a018ed050b858666&q=saint george\n",
      "Processing Record 13 of set 9 | saint george\n",
      "https://api.openweathermap.org/data/2.5/weather?appid=0204d957343167e2a018ed050b858666&q=marcona\n",
      "City not found. Skipping..\n",
      "Processing Record 14 of set 9 | marcona\n",
      "https://api.openweathermap.org/data/2.5/weather?appid=0204d957343167e2a018ed050b858666&q=paramonga\n",
      "Processing Record 15 of set 9 | paramonga\n",
      "https://api.openweathermap.org/data/2.5/weather?appid=0204d957343167e2a018ed050b858666&q=nouadhibou\n",
      "Processing Record 16 of set 9 | nouadhibou\n",
      "https://api.openweathermap.org/data/2.5/weather?appid=0204d957343167e2a018ed050b858666&q=bara\n",
      "Processing Record 17 of set 9 | bara\n",
      "https://api.openweathermap.org/data/2.5/weather?appid=0204d957343167e2a018ed050b858666&q=havre-saint-pierre\n",
      "Processing Record 18 of set 9 | havre-saint-pierre\n",
      "https://api.openweathermap.org/data/2.5/weather?appid=0204d957343167e2a018ed050b858666&q=strezhevoy\n",
      "Processing Record 19 of set 9 | strezhevoy\n",
      "https://api.openweathermap.org/data/2.5/weather?appid=0204d957343167e2a018ed050b858666&q=mwense\n",
      "Processing Record 20 of set 9 | mwense\n",
      "https://api.openweathermap.org/data/2.5/weather?appid=0204d957343167e2a018ed050b858666&q=silver city\n",
      "Processing Record 21 of set 9 | silver city\n",
      "https://api.openweathermap.org/data/2.5/weather?appid=0204d957343167e2a018ed050b858666&q=touros\n",
      "Processing Record 22 of set 9 | touros\n",
      "https://api.openweathermap.org/data/2.5/weather?appid=0204d957343167e2a018ed050b858666&q=ibra\n",
      "Processing Record 23 of set 9 | ibra\n",
      "https://api.openweathermap.org/data/2.5/weather?appid=0204d957343167e2a018ed050b858666&q=caldas novas\n",
      "Processing Record 24 of set 9 | caldas novas\n",
      "https://api.openweathermap.org/data/2.5/weather?appid=0204d957343167e2a018ed050b858666&q=oyama\n",
      "Processing Record 25 of set 9 | oyama\n",
      "https://api.openweathermap.org/data/2.5/weather?appid=0204d957343167e2a018ed050b858666&q=taunggyi\n",
      "Processing Record 26 of set 9 | taunggyi\n",
      "https://api.openweathermap.org/data/2.5/weather?appid=0204d957343167e2a018ed050b858666&q=cockburn town\n",
      "Processing Record 27 of set 9 | cockburn town\n",
      "https://api.openweathermap.org/data/2.5/weather?appid=0204d957343167e2a018ed050b858666&q=kieta\n",
      "Processing Record 28 of set 9 | kieta\n",
      "https://api.openweathermap.org/data/2.5/weather?appid=0204d957343167e2a018ed050b858666&q=shingu\n",
      "Processing Record 29 of set 9 | shingu\n",
      "https://api.openweathermap.org/data/2.5/weather?appid=0204d957343167e2a018ed050b858666&q=laguna\n",
      "Processing Record 30 of set 9 | laguna\n",
      "https://api.openweathermap.org/data/2.5/weather?appid=0204d957343167e2a018ed050b858666&q=kendari\n",
      "Processing Record 31 of set 9 | kendari\n",
      "https://api.openweathermap.org/data/2.5/weather?appid=0204d957343167e2a018ed050b858666&q=wahran\n",
      "City not found. Skipping..\n",
      "Processing Record 32 of set 9 | wahran\n",
      "https://api.openweathermap.org/data/2.5/weather?appid=0204d957343167e2a018ed050b858666&q=pierre\n",
      "Processing Record 33 of set 9 | pierre\n",
      "https://api.openweathermap.org/data/2.5/weather?appid=0204d957343167e2a018ed050b858666&q=grindavik\n",
      "Processing Record 34 of set 9 | grindavik\n",
      "https://api.openweathermap.org/data/2.5/weather?appid=0204d957343167e2a018ed050b858666&q=svetlyy\n",
      "Processing Record 35 of set 9 | svetlyy\n",
      "https://api.openweathermap.org/data/2.5/weather?appid=0204d957343167e2a018ed050b858666&q=maragogi\n",
      "Processing Record 36 of set 9 | maragogi\n",
      "https://api.openweathermap.org/data/2.5/weather?appid=0204d957343167e2a018ed050b858666&q=saint-leu\n",
      "Processing Record 37 of set 9 | saint-leu\n",
      "https://api.openweathermap.org/data/2.5/weather?appid=0204d957343167e2a018ed050b858666&q=cholet\n",
      "Processing Record 38 of set 9 | cholet\n",
      "https://api.openweathermap.org/data/2.5/weather?appid=0204d957343167e2a018ed050b858666&q=sangamner\n",
      "Processing Record 39 of set 9 | sangamner\n",
      "https://api.openweathermap.org/data/2.5/weather?appid=0204d957343167e2a018ed050b858666&q=saleaula\n",
      "City not found. Skipping..\n",
      "Processing Record 40 of set 9 | saleaula\n",
      "https://api.openweathermap.org/data/2.5/weather?appid=0204d957343167e2a018ed050b858666&q=normandin\n",
      "Processing Record 41 of set 9 | normandin\n",
      "https://api.openweathermap.org/data/2.5/weather?appid=0204d957343167e2a018ed050b858666&q=iralaya\n",
      "Processing Record 42 of set 9 | iralaya\n",
      "https://api.openweathermap.org/data/2.5/weather?appid=0204d957343167e2a018ed050b858666&q=vila franca do campo\n",
      "Processing Record 43 of set 9 | vila franca do campo\n",
      "https://api.openweathermap.org/data/2.5/weather?appid=0204d957343167e2a018ed050b858666&q=mutsamudu\n",
      "City not found. Skipping..\n",
      "Processing Record 44 of set 9 | mutsamudu\n",
      "https://api.openweathermap.org/data/2.5/weather?appid=0204d957343167e2a018ed050b858666&q=susangerd\n",
      "Processing Record 45 of set 9 | susangerd\n",
      "https://api.openweathermap.org/data/2.5/weather?appid=0204d957343167e2a018ed050b858666&q=hanna\n",
      "Processing Record 46 of set 9 | hanna\n",
      "https://api.openweathermap.org/data/2.5/weather?appid=0204d957343167e2a018ed050b858666&q=calafell\n",
      "Processing Record 47 of set 9 | calafell\n",
      "https://api.openweathermap.org/data/2.5/weather?appid=0204d957343167e2a018ed050b858666&q=lolua\n",
      "City not found. Skipping..\n",
      "Processing Record 48 of set 9 | lolua\n",
      "https://api.openweathermap.org/data/2.5/weather?appid=0204d957343167e2a018ed050b858666&q=sioux lookout\n",
      "Processing Record 49 of set 9 | sioux lookout\n",
      "https://api.openweathermap.org/data/2.5/weather?appid=0204d957343167e2a018ed050b858666&q=saint anthony\n",
      "Processing Record 50 of set 9 | saint anthony\n",
      "https://api.openweathermap.org/data/2.5/weather?appid=0204d957343167e2a018ed050b858666&q=malanje\n",
      "Processing Record 51 of set 9 | malanje\n",
      "https://api.openweathermap.org/data/2.5/weather?appid=0204d957343167e2a018ed050b858666&q=baykalsk\n",
      "Processing Record 1 of set 10 | baykalsk\n",
      "https://api.openweathermap.org/data/2.5/weather?appid=0204d957343167e2a018ed050b858666&q=riyadh\n",
      "Processing Record 2 of set 10 | riyadh\n",
      "https://api.openweathermap.org/data/2.5/weather?appid=0204d957343167e2a018ed050b858666&q=san felipe\n",
      "Processing Record 3 of set 10 | san felipe\n",
      "https://api.openweathermap.org/data/2.5/weather?appid=0204d957343167e2a018ed050b858666&q=bereda\n",
      "Processing Record 4 of set 10 | bereda\n",
      "https://api.openweathermap.org/data/2.5/weather?appid=0204d957343167e2a018ed050b858666&q=korla\n",
      "Processing Record 5 of set 10 | korla\n",
      "https://api.openweathermap.org/data/2.5/weather?appid=0204d957343167e2a018ed050b858666&q=labuan\n",
      "Processing Record 6 of set 10 | labuan\n",
      "https://api.openweathermap.org/data/2.5/weather?appid=0204d957343167e2a018ed050b858666&q=taboga\n",
      "Processing Record 7 of set 10 | taboga\n",
      "https://api.openweathermap.org/data/2.5/weather?appid=0204d957343167e2a018ed050b858666&q=carora\n",
      "Processing Record 8 of set 10 | carora\n",
      "https://api.openweathermap.org/data/2.5/weather?appid=0204d957343167e2a018ed050b858666&q=taoudenni\n",
      "Processing Record 9 of set 10 | taoudenni\n",
      "https://api.openweathermap.org/data/2.5/weather?appid=0204d957343167e2a018ed050b858666&q=gari\n",
      "Processing Record 10 of set 10 | gari\n",
      "https://api.openweathermap.org/data/2.5/weather?appid=0204d957343167e2a018ed050b858666&q=weston\n",
      "Processing Record 11 of set 10 | weston\n",
      "https://api.openweathermap.org/data/2.5/weather?appid=0204d957343167e2a018ed050b858666&q=mwinilunga\n"
     ]
    },
    {
     "name": "stdout",
     "output_type": "stream",
     "text": [
      "Processing Record 12 of set 10 | mwinilunga\n",
      "https://api.openweathermap.org/data/2.5/weather?appid=0204d957343167e2a018ed050b858666&q=zapolyarnyy\n",
      "Processing Record 13 of set 10 | zapolyarnyy\n",
      "https://api.openweathermap.org/data/2.5/weather?appid=0204d957343167e2a018ed050b858666&q=amapa\n",
      "Processing Record 14 of set 10 | amapa\n",
      "https://api.openweathermap.org/data/2.5/weather?appid=0204d957343167e2a018ed050b858666&q=raudeberg\n",
      "Processing Record 15 of set 10 | raudeberg\n",
      "https://api.openweathermap.org/data/2.5/weather?appid=0204d957343167e2a018ed050b858666&q=jahrom\n",
      "City not found. Skipping..\n",
      "Processing Record 16 of set 10 | jahrom\n",
      "https://api.openweathermap.org/data/2.5/weather?appid=0204d957343167e2a018ed050b858666&q=itoman\n",
      "Processing Record 17 of set 10 | itoman\n",
      "https://api.openweathermap.org/data/2.5/weather?appid=0204d957343167e2a018ed050b858666&q=tabuk\n",
      "Processing Record 18 of set 10 | tabuk\n",
      "https://api.openweathermap.org/data/2.5/weather?appid=0204d957343167e2a018ed050b858666&q=umm kaddadah\n",
      "Processing Record 19 of set 10 | umm kaddadah\n",
      "https://api.openweathermap.org/data/2.5/weather?appid=0204d957343167e2a018ed050b858666&q=lazaro cardenas\n",
      "Processing Record 20 of set 10 | lazaro cardenas\n",
      "https://api.openweathermap.org/data/2.5/weather?appid=0204d957343167e2a018ed050b858666&q=jizan\n",
      "Processing Record 21 of set 10 | jizan\n",
      "https://api.openweathermap.org/data/2.5/weather?appid=0204d957343167e2a018ed050b858666&q=omsukchan\n",
      "Processing Record 22 of set 10 | omsukchan\n",
      "https://api.openweathermap.org/data/2.5/weather?appid=0204d957343167e2a018ed050b858666&q=jiroft\n",
      "City not found. Skipping..\n",
      "Processing Record 23 of set 10 | jiroft\n",
      "https://api.openweathermap.org/data/2.5/weather?appid=0204d957343167e2a018ed050b858666&q=mandalgovi\n",
      "Processing Record 24 of set 10 | mandalgovi\n",
      "https://api.openweathermap.org/data/2.5/weather?appid=0204d957343167e2a018ed050b858666&q=hermiston\n",
      "Processing Record 25 of set 10 | hermiston\n",
      "https://api.openweathermap.org/data/2.5/weather?appid=0204d957343167e2a018ed050b858666&q=stornoway\n",
      "Processing Record 26 of set 10 | stornoway\n",
      "https://api.openweathermap.org/data/2.5/weather?appid=0204d957343167e2a018ed050b858666&q=tshikapa\n",
      "Processing Record 27 of set 10 | tshikapa\n",
      "https://api.openweathermap.org/data/2.5/weather?appid=0204d957343167e2a018ed050b858666&q=outjo\n",
      "Processing Record 28 of set 10 | outjo\n",
      "https://api.openweathermap.org/data/2.5/weather?appid=0204d957343167e2a018ed050b858666&q=pavlivka\n",
      "Processing Record 29 of set 10 | pavlivka\n",
      "https://api.openweathermap.org/data/2.5/weather?appid=0204d957343167e2a018ed050b858666&q=salinopolis\n",
      "Processing Record 30 of set 10 | salinopolis\n",
      "https://api.openweathermap.org/data/2.5/weather?appid=0204d957343167e2a018ed050b858666&q=kaligutan\n",
      "Processing Record 31 of set 10 | kaligutan\n",
      "https://api.openweathermap.org/data/2.5/weather?appid=0204d957343167e2a018ed050b858666&q=one hundred mile house\n",
      "City not found. Skipping..\n",
      "Processing Record 32 of set 10 | one hundred mile house\n",
      "https://api.openweathermap.org/data/2.5/weather?appid=0204d957343167e2a018ed050b858666&q=myitkyina\n",
      "Processing Record 33 of set 10 | myitkyina\n",
      "https://api.openweathermap.org/data/2.5/weather?appid=0204d957343167e2a018ed050b858666&q=zhuhai\n",
      "Processing Record 34 of set 10 | zhuhai\n",
      "https://api.openweathermap.org/data/2.5/weather?appid=0204d957343167e2a018ed050b858666&q=verkhoyansk\n",
      "Processing Record 35 of set 10 | verkhoyansk\n",
      "https://api.openweathermap.org/data/2.5/weather?appid=0204d957343167e2a018ed050b858666&q=wanning\n",
      "Processing Record 36 of set 10 | wanning\n",
      "https://api.openweathermap.org/data/2.5/weather?appid=0204d957343167e2a018ed050b858666&q=simbahan\n",
      "Processing Record 37 of set 10 | simbahan\n",
      "https://api.openweathermap.org/data/2.5/weather?appid=0204d957343167e2a018ed050b858666&q=tucuma\n",
      "Processing Record 38 of set 10 | tucuma\n",
      "https://api.openweathermap.org/data/2.5/weather?appid=0204d957343167e2a018ed050b858666&q=somotillo\n",
      "Processing Record 39 of set 10 | somotillo\n",
      "https://api.openweathermap.org/data/2.5/weather?appid=0204d957343167e2a018ed050b858666&q=burnie\n",
      "Processing Record 40 of set 10 | burnie\n",
      "https://api.openweathermap.org/data/2.5/weather?appid=0204d957343167e2a018ed050b858666&q=port macquarie\n",
      "Processing Record 41 of set 10 | port macquarie\n",
      "https://api.openweathermap.org/data/2.5/weather?appid=0204d957343167e2a018ed050b858666&q=poronaysk\n",
      "Processing Record 42 of set 10 | poronaysk\n",
      "https://api.openweathermap.org/data/2.5/weather?appid=0204d957343167e2a018ed050b858666&q=icatu\n",
      "Processing Record 43 of set 10 | icatu\n",
      "https://api.openweathermap.org/data/2.5/weather?appid=0204d957343167e2a018ed050b858666&q=zhovtneve\n",
      "Processing Record 44 of set 10 | zhovtneve\n",
      "https://api.openweathermap.org/data/2.5/weather?appid=0204d957343167e2a018ed050b858666&q=djambala\n",
      "Processing Record 45 of set 10 | djambala\n",
      "https://api.openweathermap.org/data/2.5/weather?appid=0204d957343167e2a018ed050b858666&q=saryshagan\n",
      "City not found. Skipping..\n",
      "Processing Record 46 of set 10 | saryshagan\n",
      "https://api.openweathermap.org/data/2.5/weather?appid=0204d957343167e2a018ed050b858666&q=lac du bonnet\n",
      "Processing Record 47 of set 10 | lac du bonnet\n",
      "https://api.openweathermap.org/data/2.5/weather?appid=0204d957343167e2a018ed050b858666&q=flin flon\n",
      "Processing Record 48 of set 10 | flin flon\n",
      "https://api.openweathermap.org/data/2.5/weather?appid=0204d957343167e2a018ed050b858666&q=kavaratti\n",
      "Processing Record 49 of set 10 | kavaratti\n",
      "https://api.openweathermap.org/data/2.5/weather?appid=0204d957343167e2a018ed050b858666&q=codrington\n",
      "Processing Record 50 of set 10 | codrington\n",
      "https://api.openweathermap.org/data/2.5/weather?appid=0204d957343167e2a018ed050b858666&q=sung noen\n",
      "Processing Record 51 of set 10 | sung noen\n",
      "https://api.openweathermap.org/data/2.5/weather?appid=0204d957343167e2a018ed050b858666&q=bonfim\n",
      "Processing Record 1 of set 11 | bonfim\n",
      "https://api.openweathermap.org/data/2.5/weather?appid=0204d957343167e2a018ed050b858666&q=gongzhuling\n",
      "Processing Record 2 of set 11 | gongzhuling\n",
      "https://api.openweathermap.org/data/2.5/weather?appid=0204d957343167e2a018ed050b858666&q=ostrovnoy\n",
      "Processing Record 3 of set 11 | ostrovnoy\n",
      "https://api.openweathermap.org/data/2.5/weather?appid=0204d957343167e2a018ed050b858666&q=tutoia\n",
      "Processing Record 4 of set 11 | tutoia\n",
      "https://api.openweathermap.org/data/2.5/weather?appid=0204d957343167e2a018ed050b858666&q=anzio\n",
      "Processing Record 5 of set 11 | anzio\n",
      "https://api.openweathermap.org/data/2.5/weather?appid=0204d957343167e2a018ed050b858666&q=binzhou\n",
      "Processing Record 6 of set 11 | binzhou\n",
      "https://api.openweathermap.org/data/2.5/weather?appid=0204d957343167e2a018ed050b858666&q=mill valley\n",
      "Processing Record 7 of set 11 | mill valley\n",
      "https://api.openweathermap.org/data/2.5/weather?appid=0204d957343167e2a018ed050b858666&q=waingapu\n",
      "Processing Record 8 of set 11 | waingapu\n",
      "https://api.openweathermap.org/data/2.5/weather?appid=0204d957343167e2a018ed050b858666&q=rorvik\n",
      "Processing Record 9 of set 11 | rorvik\n",
      "https://api.openweathermap.org/data/2.5/weather?appid=0204d957343167e2a018ed050b858666&q=hami\n",
      "Processing Record 10 of set 11 | hami\n",
      "https://api.openweathermap.org/data/2.5/weather?appid=0204d957343167e2a018ed050b858666&q=charters towers\n",
      "Processing Record 11 of set 11 | charters towers\n",
      "https://api.openweathermap.org/data/2.5/weather?appid=0204d957343167e2a018ed050b858666&q=sorvag\n",
      "City not found. Skipping..\n",
      "Processing Record 12 of set 11 | sorvag\n",
      "https://api.openweathermap.org/data/2.5/weather?appid=0204d957343167e2a018ed050b858666&q=penzance\n",
      "Processing Record 13 of set 11 | penzance\n",
      "https://api.openweathermap.org/data/2.5/weather?appid=0204d957343167e2a018ed050b858666&q=caravelas\n",
      "Processing Record 14 of set 11 | caravelas\n",
      "https://api.openweathermap.org/data/2.5/weather?appid=0204d957343167e2a018ed050b858666&q=miyako\n",
      "Processing Record 15 of set 11 | miyako\n",
      "https://api.openweathermap.org/data/2.5/weather?appid=0204d957343167e2a018ed050b858666&q=qaqortoq\n",
      "Processing Record 16 of set 11 | qaqortoq\n",
      "https://api.openweathermap.org/data/2.5/weather?appid=0204d957343167e2a018ed050b858666&q=tefe\n",
      "Processing Record 17 of set 11 | tefe\n",
      "https://api.openweathermap.org/data/2.5/weather?appid=0204d957343167e2a018ed050b858666&q=adre\n",
      "Processing Record 18 of set 11 | adre\n",
      "https://api.openweathermap.org/data/2.5/weather?appid=0204d957343167e2a018ed050b858666&q=santo angelo\n",
      "Processing Record 19 of set 11 | santo angelo\n",
      "https://api.openweathermap.org/data/2.5/weather?appid=0204d957343167e2a018ed050b858666&q=rocha\n"
     ]
    },
    {
     "name": "stdout",
     "output_type": "stream",
     "text": [
      "Processing Record 20 of set 11 | rocha\n",
      "https://api.openweathermap.org/data/2.5/weather?appid=0204d957343167e2a018ed050b858666&q=batagay-alyta\n",
      "Processing Record 21 of set 11 | batagay-alyta\n",
      "https://api.openweathermap.org/data/2.5/weather?appid=0204d957343167e2a018ed050b858666&q=lampa\n",
      "Processing Record 22 of set 11 | lampa\n",
      "https://api.openweathermap.org/data/2.5/weather?appid=0204d957343167e2a018ed050b858666&q=padang\n",
      "Processing Record 23 of set 11 | padang\n",
      "https://api.openweathermap.org/data/2.5/weather?appid=0204d957343167e2a018ed050b858666&q=bad ischl\n",
      "Processing Record 24 of set 11 | bad ischl\n",
      "https://api.openweathermap.org/data/2.5/weather?appid=0204d957343167e2a018ed050b858666&q=qandala\n",
      "Processing Record 25 of set 11 | qandala\n",
      "https://api.openweathermap.org/data/2.5/weather?appid=0204d957343167e2a018ed050b858666&q=quelimane\n",
      "Processing Record 26 of set 11 | quelimane\n",
      "https://api.openweathermap.org/data/2.5/weather?appid=0204d957343167e2a018ed050b858666&q=husavik\n",
      "Processing Record 27 of set 11 | husavik\n",
      "https://api.openweathermap.org/data/2.5/weather?appid=0204d957343167e2a018ed050b858666&q=birin\n",
      "Processing Record 28 of set 11 | birin\n",
      "https://api.openweathermap.org/data/2.5/weather?appid=0204d957343167e2a018ed050b858666&q=nanakuli\n",
      "Processing Record 29 of set 11 | nanakuli\n",
      "https://api.openweathermap.org/data/2.5/weather?appid=0204d957343167e2a018ed050b858666&q=broken hill\n",
      "Processing Record 30 of set 11 | broken hill\n",
      "https://api.openweathermap.org/data/2.5/weather?appid=0204d957343167e2a018ed050b858666&q=el carrizo\n",
      "Processing Record 31 of set 11 | el carrizo\n",
      "https://api.openweathermap.org/data/2.5/weather?appid=0204d957343167e2a018ed050b858666&q=ondorhaan\n",
      "City not found. Skipping..\n",
      "Processing Record 32 of set 11 | ondorhaan\n",
      "https://api.openweathermap.org/data/2.5/weather?appid=0204d957343167e2a018ed050b858666&q=tapes\n",
      "Processing Record 33 of set 11 | tapes\n",
      "https://api.openweathermap.org/data/2.5/weather?appid=0204d957343167e2a018ed050b858666&q=pacocha\n",
      "Processing Record 34 of set 11 | pacocha\n",
      "https://api.openweathermap.org/data/2.5/weather?appid=0204d957343167e2a018ed050b858666&q=imeni poliny osipenko\n",
      "Processing Record 35 of set 11 | imeni poliny osipenko\n",
      "https://api.openweathermap.org/data/2.5/weather?appid=0204d957343167e2a018ed050b858666&q=bashmakovo\n",
      "Processing Record 36 of set 11 | bashmakovo\n",
      "https://api.openweathermap.org/data/2.5/weather?appid=0204d957343167e2a018ed050b858666&q=calabozo\n",
      "Processing Record 37 of set 11 | calabozo\n",
      "https://api.openweathermap.org/data/2.5/weather?appid=0204d957343167e2a018ed050b858666&q=mitsamiouli\n",
      "Processing Record 38 of set 11 | mitsamiouli\n",
      "https://api.openweathermap.org/data/2.5/weather?appid=0204d957343167e2a018ed050b858666&q=natal\n",
      "Processing Record 39 of set 11 | natal\n",
      "https://api.openweathermap.org/data/2.5/weather?appid=0204d957343167e2a018ed050b858666&q=sept-iles\n",
      "Processing Record 40 of set 11 | sept-iles\n",
      "https://api.openweathermap.org/data/2.5/weather?appid=0204d957343167e2a018ed050b858666&q=wabana\n",
      "Processing Record 41 of set 11 | wabana\n",
      "https://api.openweathermap.org/data/2.5/weather?appid=0204d957343167e2a018ed050b858666&q=batagay\n",
      "Processing Record 42 of set 11 | batagay\n",
      "https://api.openweathermap.org/data/2.5/weather?appid=0204d957343167e2a018ed050b858666&q=cimarron hills\n",
      "Processing Record 43 of set 11 | cimarron hills\n",
      "https://api.openweathermap.org/data/2.5/weather?appid=0204d957343167e2a018ed050b858666&q=pangai\n",
      "Processing Record 44 of set 11 | pangai\n",
      "https://api.openweathermap.org/data/2.5/weather?appid=0204d957343167e2a018ed050b858666&q=elko\n",
      "Processing Record 45 of set 11 | elko\n",
      "https://api.openweathermap.org/data/2.5/weather?appid=0204d957343167e2a018ed050b858666&q=fort nelson\n",
      "Processing Record 46 of set 11 | fort nelson\n",
      "https://api.openweathermap.org/data/2.5/weather?appid=0204d957343167e2a018ed050b858666&q=itarema\n",
      "Processing Record 47 of set 11 | itarema\n",
      "https://api.openweathermap.org/data/2.5/weather?appid=0204d957343167e2a018ed050b858666&q=antofagasta\n",
      "Processing Record 48 of set 11 | antofagasta\n",
      "https://api.openweathermap.org/data/2.5/weather?appid=0204d957343167e2a018ed050b858666&q=deder\n",
      "Processing Record 49 of set 11 | deder\n",
      "https://api.openweathermap.org/data/2.5/weather?appid=0204d957343167e2a018ed050b858666&q=curvelo\n",
      "Processing Record 50 of set 11 | curvelo\n",
      "https://api.openweathermap.org/data/2.5/weather?appid=0204d957343167e2a018ed050b858666&q=bad hofgastein\n",
      "Processing Record 51 of set 11 | bad hofgastein\n",
      "https://api.openweathermap.org/data/2.5/weather?appid=0204d957343167e2a018ed050b858666&q=hofn\n",
      "Processing Record 1 of set 12 | hofn\n",
      "https://api.openweathermap.org/data/2.5/weather?appid=0204d957343167e2a018ed050b858666&q=kaeo\n",
      "Processing Record 2 of set 12 | kaeo\n",
      "https://api.openweathermap.org/data/2.5/weather?appid=0204d957343167e2a018ed050b858666&q=teknaf\n",
      "Processing Record 3 of set 12 | teknaf\n",
      "https://api.openweathermap.org/data/2.5/weather?appid=0204d957343167e2a018ed050b858666&q=gainesville\n",
      "Processing Record 4 of set 12 | gainesville\n",
      "https://api.openweathermap.org/data/2.5/weather?appid=0204d957343167e2a018ed050b858666&q=aksu\n",
      "Processing Record 5 of set 12 | aksu\n",
      "https://api.openweathermap.org/data/2.5/weather?appid=0204d957343167e2a018ed050b858666&q=bunia\n",
      "Processing Record 6 of set 12 | bunia\n",
      "https://api.openweathermap.org/data/2.5/weather?appid=0204d957343167e2a018ed050b858666&q=itaituba\n",
      "Processing Record 7 of set 12 | itaituba\n",
      "https://api.openweathermap.org/data/2.5/weather?appid=0204d957343167e2a018ed050b858666&q=fort smith\n",
      "Processing Record 8 of set 12 | fort smith\n",
      "https://api.openweathermap.org/data/2.5/weather?appid=0204d957343167e2a018ed050b858666&q=tagusao\n",
      "Processing Record 9 of set 12 | tagusao\n",
      "https://api.openweathermap.org/data/2.5/weather?appid=0204d957343167e2a018ed050b858666&q=inderborskiy\n",
      "City not found. Skipping..\n",
      "Processing Record 10 of set 12 | inderborskiy\n",
      "https://api.openweathermap.org/data/2.5/weather?appid=0204d957343167e2a018ed050b858666&q=tungkang\n",
      "City not found. Skipping..\n",
      "Processing Record 11 of set 12 | tungkang\n",
      "https://api.openweathermap.org/data/2.5/weather?appid=0204d957343167e2a018ed050b858666&q=mitikas\n",
      "Processing Record 12 of set 12 | mitikas\n",
      "https://api.openweathermap.org/data/2.5/weather?appid=0204d957343167e2a018ed050b858666&q=luwuk\n",
      "Processing Record 13 of set 12 | luwuk\n",
      "https://api.openweathermap.org/data/2.5/weather?appid=0204d957343167e2a018ed050b858666&q=los llanos de aridane\n",
      "Processing Record 14 of set 12 | los llanos de aridane\n",
      "https://api.openweathermap.org/data/2.5/weather?appid=0204d957343167e2a018ed050b858666&q=unguia\n",
      "Processing Record 15 of set 12 | unguia\n",
      "https://api.openweathermap.org/data/2.5/weather?appid=0204d957343167e2a018ed050b858666&q=caledon\n",
      "Processing Record 16 of set 12 | caledon\n",
      "https://api.openweathermap.org/data/2.5/weather?appid=0204d957343167e2a018ed050b858666&q=doctor pedro p. pena\n",
      "City not found. Skipping..\n",
      "Processing Record 17 of set 12 | doctor pedro p. pena\n",
      "https://api.openweathermap.org/data/2.5/weather?appid=0204d957343167e2a018ed050b858666&q=ipixuna\n",
      "Processing Record 18 of set 12 | ipixuna\n",
      "https://api.openweathermap.org/data/2.5/weather?appid=0204d957343167e2a018ed050b858666&q=awjilah\n",
      "Processing Record 19 of set 12 | awjilah\n",
      "https://api.openweathermap.org/data/2.5/weather?appid=0204d957343167e2a018ed050b858666&q=santa isabel do rio negro\n",
      "Processing Record 20 of set 12 | santa isabel do rio negro\n",
      "https://api.openweathermap.org/data/2.5/weather?appid=0204d957343167e2a018ed050b858666&q=kurikka\n",
      "Processing Record 21 of set 12 | kurikka\n",
      "https://api.openweathermap.org/data/2.5/weather?appid=0204d957343167e2a018ed050b858666&q=matara\n",
      "Processing Record 22 of set 12 | matara\n",
      "https://api.openweathermap.org/data/2.5/weather?appid=0204d957343167e2a018ed050b858666&q=russell\n",
      "Processing Record 23 of set 12 | russell\n",
      "https://api.openweathermap.org/data/2.5/weather?appid=0204d957343167e2a018ed050b858666&q=hobyo\n",
      "Processing Record 24 of set 12 | hobyo\n",
      "https://api.openweathermap.org/data/2.5/weather?appid=0204d957343167e2a018ed050b858666&q=saldanha\n",
      "Processing Record 25 of set 12 | saldanha\n",
      "https://api.openweathermap.org/data/2.5/weather?appid=0204d957343167e2a018ed050b858666&q=san quintin\n",
      "Processing Record 26 of set 12 | san quintin\n",
      "https://api.openweathermap.org/data/2.5/weather?appid=0204d957343167e2a018ed050b858666&q=kano\n",
      "Processing Record 27 of set 12 | kano\n",
      "https://api.openweathermap.org/data/2.5/weather?appid=0204d957343167e2a018ed050b858666&q=navirai\n"
     ]
    },
    {
     "name": "stdout",
     "output_type": "stream",
     "text": [
      "Processing Record 28 of set 12 | navirai\n",
      "https://api.openweathermap.org/data/2.5/weather?appid=0204d957343167e2a018ed050b858666&q=kismayo\n",
      "Processing Record 29 of set 12 | kismayo\n",
      "https://api.openweathermap.org/data/2.5/weather?appid=0204d957343167e2a018ed050b858666&q=tatarskaya kargala\n",
      "Processing Record 30 of set 12 | tatarskaya kargala\n",
      "https://api.openweathermap.org/data/2.5/weather?appid=0204d957343167e2a018ed050b858666&q=pangnirtung\n",
      "Processing Record 31 of set 12 | pangnirtung\n",
      "https://api.openweathermap.org/data/2.5/weather?appid=0204d957343167e2a018ed050b858666&q=diffa\n",
      "Processing Record 32 of set 12 | diffa\n",
      "https://api.openweathermap.org/data/2.5/weather?appid=0204d957343167e2a018ed050b858666&q=ust-maya\n",
      "Processing Record 33 of set 12 | ust-maya\n",
      "https://api.openweathermap.org/data/2.5/weather?appid=0204d957343167e2a018ed050b858666&q=ventnor city\n",
      "Processing Record 34 of set 12 | ventnor city\n",
      "https://api.openweathermap.org/data/2.5/weather?appid=0204d957343167e2a018ed050b858666&q=chabahar\n",
      "Processing Record 35 of set 12 | chabahar\n",
      "https://api.openweathermap.org/data/2.5/weather?appid=0204d957343167e2a018ed050b858666&q=barranca\n",
      "Processing Record 36 of set 12 | barranca\n",
      "https://api.openweathermap.org/data/2.5/weather?appid=0204d957343167e2a018ed050b858666&q=sobolevo\n",
      "Processing Record 37 of set 12 | sobolevo\n",
      "https://api.openweathermap.org/data/2.5/weather?appid=0204d957343167e2a018ed050b858666&q=raton\n",
      "Processing Record 38 of set 12 | raton\n",
      "https://api.openweathermap.org/data/2.5/weather?appid=0204d957343167e2a018ed050b858666&q=lamu\n",
      "Processing Record 39 of set 12 | lamu\n",
      "https://api.openweathermap.org/data/2.5/weather?appid=0204d957343167e2a018ed050b858666&q=nanchang\n",
      "Processing Record 40 of set 12 | nanchang\n",
      "https://api.openweathermap.org/data/2.5/weather?appid=0204d957343167e2a018ed050b858666&q=krasnyy yar\n",
      "Processing Record 41 of set 12 | krasnyy yar\n",
      "----------------\n",
      "Data Retrieval Complete\n",
      "----------------\n"
     ]
    }
   ],
   "source": [
    "cloud = []\n",
    "winds = []\n",
    "humidity = []\n",
    "lat = []\n",
    "lng = []\n",
    "max_temp = []\n",
    "date = []\n",
    "country = []\n",
    "citi = []\n",
    "\n",
    "count = 0\n",
    "sett = 1\n",
    "\n",
    "print(\"Beginning Data Retrieval\")\n",
    "print(\"-----------------------------\")\n",
    "\n",
    "for city in cities:  \n",
    "    try:\n",
    "        data_url = query_url+city\n",
    "        print(data_url)\n",
    "        response = requests.get(data_url).json()\n",
    "        max_temp.append(response['main']['temp_max'])\n",
    "        cloud.append(response['clouds']['all'])\n",
    "        winds.append(response['wind']['speed'])\n",
    "        humidity.append(response['main']['humidity'])\n",
    "        lat.append(response['coord']['lat'])\n",
    "        lng.append(response['coord']['lon'])\n",
    "        date.append(response['dt'])\n",
    "        country.append(response['sys']['country'])\n",
    "        citi.append(city)\n",
    "        \n",
    "    except:\n",
    "        print(\"City not found. Skipping..\")\n",
    "\n",
    "    print(f\"Processing Record {count} of set {sett} | {city}\")\n",
    "    if count > 50:\n",
    "        count = 1\n",
    "        sett += 1\n",
    "    else:\n",
    "        count += 1\n",
    "\n",
    "print(\"----------------\")\n",
    "print(\"Data Retrieval Complete\")\n",
    "print(\"----------------\")"
   ]
  },
  {
   "cell_type": "markdown",
   "metadata": {},
   "source": [
    "### Convert Raw Data to DataFrame\n",
    "* Export the city data into a .csv.\n",
    "* Display the DataFrame"
   ]
  },
  {
   "cell_type": "code",
   "execution_count": 259,
   "metadata": {},
   "outputs": [],
   "source": [
    "weather_dict = {\n",
    "    \"City\": citi,\n",
    "    \"Lat\": lat,\n",
    "    \"Lng\": lng,\n",
    "    \"Max Temp\": max_temp,\n",
    "    \"Humidity\": humidity,\n",
    "    \"Cloudiness\": cloud,\n",
    "    \"Wind Speed\": winds,\n",
    "    \"Country\": country,\n",
    "    \"Date\": date\n",
    "}"
   ]
  },
  {
   "cell_type": "code",
   "execution_count": 260,
   "metadata": {},
   "outputs": [
    {
     "name": "stdout",
     "output_type": "stream",
     "text": [
      "556 556 556 556 556 556 556 556 556\n"
     ]
    }
   ],
   "source": [
    "print(len(citi), len(lat), len(lng), len(max_temp), len(humidity), len(cloud), len(winds), len(country), len(date))"
   ]
  },
  {
   "cell_type": "code",
   "execution_count": null,
   "metadata": {},
   "outputs": [],
   "source": []
  },
  {
   "cell_type": "code",
   "execution_count": 261,
   "metadata": {
    "scrolled": true
   },
   "outputs": [
    {
     "data": {
      "text/html": [
       "<div>\n",
       "<style scoped>\n",
       "    .dataframe tbody tr th:only-of-type {\n",
       "        vertical-align: middle;\n",
       "    }\n",
       "\n",
       "    .dataframe tbody tr th {\n",
       "        vertical-align: top;\n",
       "    }\n",
       "\n",
       "    .dataframe thead th {\n",
       "        text-align: right;\n",
       "    }\n",
       "</style>\n",
       "<table border=\"1\" class=\"dataframe\">\n",
       "  <thead>\n",
       "    <tr style=\"text-align: right;\">\n",
       "      <th></th>\n",
       "      <th>City</th>\n",
       "      <th>Lat</th>\n",
       "      <th>Lng</th>\n",
       "      <th>Max Temp</th>\n",
       "      <th>Humidity</th>\n",
       "      <th>Cloudiness</th>\n",
       "      <th>Wind Speed</th>\n",
       "      <th>Country</th>\n",
       "      <th>Date</th>\n",
       "    </tr>\n",
       "  </thead>\n",
       "  <tbody>\n",
       "    <tr>\n",
       "      <th>0</th>\n",
       "      <td>paramirim</td>\n",
       "      <td>-13.4425</td>\n",
       "      <td>-42.2389</td>\n",
       "      <td>295.35</td>\n",
       "      <td>70</td>\n",
       "      <td>64</td>\n",
       "      <td>2.55</td>\n",
       "      <td>BR</td>\n",
       "      <td>1614643467</td>\n",
       "    </tr>\n",
       "    <tr>\n",
       "      <th>1</th>\n",
       "      <td>port alfred</td>\n",
       "      <td>-33.5906</td>\n",
       "      <td>26.8910</td>\n",
       "      <td>294.72</td>\n",
       "      <td>87</td>\n",
       "      <td>56</td>\n",
       "      <td>3.55</td>\n",
       "      <td>ZA</td>\n",
       "      <td>1614643467</td>\n",
       "    </tr>\n",
       "    <tr>\n",
       "      <th>2</th>\n",
       "      <td>punta arenas</td>\n",
       "      <td>-53.1500</td>\n",
       "      <td>-70.9167</td>\n",
       "      <td>282.15</td>\n",
       "      <td>57</td>\n",
       "      <td>0</td>\n",
       "      <td>4.63</td>\n",
       "      <td>CL</td>\n",
       "      <td>1614643393</td>\n",
       "    </tr>\n",
       "    <tr>\n",
       "      <th>3</th>\n",
       "      <td>nizhniy odes</td>\n",
       "      <td>63.6445</td>\n",
       "      <td>54.8560</td>\n",
       "      <td>265.20</td>\n",
       "      <td>97</td>\n",
       "      <td>100</td>\n",
       "      <td>3.95</td>\n",
       "      <td>RU</td>\n",
       "      <td>1614643468</td>\n",
       "    </tr>\n",
       "    <tr>\n",
       "      <th>4</th>\n",
       "      <td>jamestown</td>\n",
       "      <td>42.0970</td>\n",
       "      <td>-79.2353</td>\n",
       "      <td>268.71</td>\n",
       "      <td>91</td>\n",
       "      <td>75</td>\n",
       "      <td>9.24</td>\n",
       "      <td>US</td>\n",
       "      <td>1614643433</td>\n",
       "    </tr>\n",
       "  </tbody>\n",
       "</table>\n",
       "</div>"
      ],
      "text/plain": [
       "           City      Lat      Lng  Max Temp  Humidity  Cloudiness  Wind Speed  \\\n",
       "0     paramirim -13.4425 -42.2389    295.35        70          64        2.55   \n",
       "1   port alfred -33.5906  26.8910    294.72        87          56        3.55   \n",
       "2  punta arenas -53.1500 -70.9167    282.15        57           0        4.63   \n",
       "3  nizhniy odes  63.6445  54.8560    265.20        97         100        3.95   \n",
       "4     jamestown  42.0970 -79.2353    268.71        91          75        9.24   \n",
       "\n",
       "  Country        Date  \n",
       "0      BR  1614643467  \n",
       "1      ZA  1614643467  \n",
       "2      CL  1614643393  \n",
       "3      RU  1614643468  \n",
       "4      US  1614643433  "
      ]
     },
     "execution_count": 261,
     "metadata": {},
     "output_type": "execute_result"
    }
   ],
   "source": [
    "weather_df = pd.DataFrame(weather_dict)\n",
    "weather_df.head()"
   ]
  },
  {
   "cell_type": "code",
   "execution_count": 123,
   "metadata": {},
   "outputs": [],
   "source": [
    "weather_df.to_csv(output_data_file)"
   ]
  },
  {
   "cell_type": "code",
   "execution_count": 248,
   "metadata": {},
   "outputs": [],
   "source": [
    "Wcounter = weather_df.count()\n",
    "Wmean = weather_df.mean()\n",
    "Wstd = weather_df.std()   \n",
    "Wmin = weather_df.min()\n",
    "quart = weather_df.quantile([.25])\n",
    "med = weather_df.quantile([.5])\n",
    "quarty = weather_df.quantile([.75])\n",
    "Wmax = weather_df.max()"
   ]
  },
  {
   "cell_type": "code",
   "execution_count": 250,
   "metadata": {},
   "outputs": [],
   "source": [
    "#sum_df = pd.DataFrame({'Count':Wcounter,'Mean':Wmean,'std':Wstd,'Min':Wmin,'25':quart,'50':med,'75':quarty,'Max':Wmax})\n"
   ]
  },
  {
   "cell_type": "code",
   "execution_count": null,
   "metadata": {},
   "outputs": [],
   "source": []
  },
  {
   "cell_type": "code",
   "execution_count": null,
   "metadata": {},
   "outputs": [],
   "source": []
  },
  {
   "cell_type": "code",
   "execution_count": 16,
   "metadata": {},
   "outputs": [
    {
     "data": {
      "text/html": [
       "<div>\n",
       "<style scoped>\n",
       "    .dataframe tbody tr th:only-of-type {\n",
       "        vertical-align: middle;\n",
       "    }\n",
       "\n",
       "    .dataframe tbody tr th {\n",
       "        vertical-align: top;\n",
       "    }\n",
       "\n",
       "    .dataframe thead th {\n",
       "        text-align: right;\n",
       "    }\n",
       "</style>\n",
       "<table border=\"1\" class=\"dataframe\">\n",
       "  <thead>\n",
       "    <tr style=\"text-align: right;\">\n",
       "      <th></th>\n",
       "      <th>Lat</th>\n",
       "      <th>Lng</th>\n",
       "      <th>Max Temp</th>\n",
       "      <th>Humidity</th>\n",
       "      <th>Cloudiness</th>\n",
       "      <th>Wind Speed</th>\n",
       "      <th>Date</th>\n",
       "    </tr>\n",
       "  </thead>\n",
       "  <tbody>\n",
       "    <tr>\n",
       "      <td>count</td>\n",
       "      <td>599.000000</td>\n",
       "      <td>599.000000</td>\n",
       "      <td>599.000000</td>\n",
       "      <td>599.000000</td>\n",
       "      <td>599.000000</td>\n",
       "      <td>599.000000</td>\n",
       "      <td>5.990000e+02</td>\n",
       "    </tr>\n",
       "    <tr>\n",
       "      <td>mean</td>\n",
       "      <td>19.877028</td>\n",
       "      <td>19.568998</td>\n",
       "      <td>69.794808</td>\n",
       "      <td>69.353923</td>\n",
       "      <td>51.569282</td>\n",
       "      <td>7.979416</td>\n",
       "      <td>1.593605e+09</td>\n",
       "    </tr>\n",
       "    <tr>\n",
       "      <td>std</td>\n",
       "      <td>33.262944</td>\n",
       "      <td>91.418472</td>\n",
       "      <td>15.678452</td>\n",
       "      <td>22.704698</td>\n",
       "      <td>35.405602</td>\n",
       "      <td>5.660694</td>\n",
       "      <td>5.738815e+01</td>\n",
       "    </tr>\n",
       "    <tr>\n",
       "      <td>min</td>\n",
       "      <td>-54.800000</td>\n",
       "      <td>-179.170000</td>\n",
       "      <td>12.200000</td>\n",
       "      <td>7.000000</td>\n",
       "      <td>0.000000</td>\n",
       "      <td>0.360000</td>\n",
       "      <td>1.593605e+09</td>\n",
       "    </tr>\n",
       "    <tr>\n",
       "      <td>25%</td>\n",
       "      <td>-8.540000</td>\n",
       "      <td>-61.210000</td>\n",
       "      <td>59.000000</td>\n",
       "      <td>55.000000</td>\n",
       "      <td>20.000000</td>\n",
       "      <td>3.620000</td>\n",
       "      <td>1.593605e+09</td>\n",
       "    </tr>\n",
       "    <tr>\n",
       "      <td>50%</td>\n",
       "      <td>24.370000</td>\n",
       "      <td>24.670000</td>\n",
       "      <td>73.110000</td>\n",
       "      <td>75.000000</td>\n",
       "      <td>59.000000</td>\n",
       "      <td>6.730000</td>\n",
       "      <td>1.593605e+09</td>\n",
       "    </tr>\n",
       "    <tr>\n",
       "      <td>75%</td>\n",
       "      <td>46.585000</td>\n",
       "      <td>102.255000</td>\n",
       "      <td>80.600000</td>\n",
       "      <td>87.000000</td>\n",
       "      <td>85.000000</td>\n",
       "      <td>11.050000</td>\n",
       "      <td>1.593605e+09</td>\n",
       "    </tr>\n",
       "    <tr>\n",
       "      <td>max</td>\n",
       "      <td>78.220000</td>\n",
       "      <td>179.320000</td>\n",
       "      <td>116.600000</td>\n",
       "      <td>100.000000</td>\n",
       "      <td>100.000000</td>\n",
       "      <td>42.500000</td>\n",
       "      <td>1.593605e+09</td>\n",
       "    </tr>\n",
       "  </tbody>\n",
       "</table>\n",
       "</div>"
      ],
      "text/plain": [
       "              Lat         Lng    Max Temp    Humidity  Cloudiness  Wind Speed  \\\n",
       "count  599.000000  599.000000  599.000000  599.000000  599.000000  599.000000   \n",
       "mean    19.877028   19.568998   69.794808   69.353923   51.569282    7.979416   \n",
       "std     33.262944   91.418472   15.678452   22.704698   35.405602    5.660694   \n",
       "min    -54.800000 -179.170000   12.200000    7.000000    0.000000    0.360000   \n",
       "25%     -8.540000  -61.210000   59.000000   55.000000   20.000000    3.620000   \n",
       "50%     24.370000   24.670000   73.110000   75.000000   59.000000    6.730000   \n",
       "75%     46.585000  102.255000   80.600000   87.000000   85.000000   11.050000   \n",
       "max     78.220000  179.320000  116.600000  100.000000  100.000000   42.500000   \n",
       "\n",
       "               Date  \n",
       "count  5.990000e+02  \n",
       "mean   1.593605e+09  \n",
       "std    5.738815e+01  \n",
       "min    1.593605e+09  \n",
       "25%    1.593605e+09  \n",
       "50%    1.593605e+09  \n",
       "75%    1.593605e+09  \n",
       "max    1.593605e+09  "
      ]
     },
     "execution_count": 16,
     "metadata": {},
     "output_type": "execute_result"
    }
   ],
   "source": []
  },
  {
   "cell_type": "markdown",
   "metadata": {},
   "source": [
    "## Inspect the data and remove the cities where the humidity > 100%.\n",
    "----\n",
    "Skip this step if there are no cities that have humidity > 100%. "
   ]
  },
  {
   "cell_type": "code",
   "execution_count": 252,
   "metadata": {},
   "outputs": [],
   "source": [
    "#No city has over 100% himidty"
   ]
  },
  {
   "cell_type": "code",
   "execution_count": 6,
   "metadata": {},
   "outputs": [
    {
     "data": {
      "text/html": [
       "<div>\n",
       "<style scoped>\n",
       "    .dataframe tbody tr th:only-of-type {\n",
       "        vertical-align: middle;\n",
       "    }\n",
       "\n",
       "    .dataframe tbody tr th {\n",
       "        vertical-align: top;\n",
       "    }\n",
       "\n",
       "    .dataframe thead th {\n",
       "        text-align: right;\n",
       "    }\n",
       "</style>\n",
       "<table border=\"1\" class=\"dataframe\">\n",
       "  <thead>\n",
       "    <tr style=\"text-align: right;\">\n",
       "      <th></th>\n",
       "      <th>Lat</th>\n",
       "      <th>Lng</th>\n",
       "      <th>Max Temp</th>\n",
       "      <th>Humidity</th>\n",
       "      <th>Cloudiness</th>\n",
       "      <th>Wind Speed</th>\n",
       "      <th>Date</th>\n",
       "    </tr>\n",
       "  </thead>\n",
       "  <tbody>\n",
       "    <tr>\n",
       "      <th>count</th>\n",
       "      <td>550.000000</td>\n",
       "      <td>550.000000</td>\n",
       "      <td>550.000000</td>\n",
       "      <td>550.000000</td>\n",
       "      <td>550.000000</td>\n",
       "      <td>550.000000</td>\n",
       "      <td>5.500000e+02</td>\n",
       "    </tr>\n",
       "    <tr>\n",
       "      <th>mean</th>\n",
       "      <td>19.973545</td>\n",
       "      <td>17.124400</td>\n",
       "      <td>58.331400</td>\n",
       "      <td>67.890909</td>\n",
       "      <td>52.141818</td>\n",
       "      <td>8.544800</td>\n",
       "      <td>1.585764e+09</td>\n",
       "    </tr>\n",
       "    <tr>\n",
       "      <th>std</th>\n",
       "      <td>33.284840</td>\n",
       "      <td>91.595451</td>\n",
       "      <td>25.795297</td>\n",
       "      <td>20.864881</td>\n",
       "      <td>35.766469</td>\n",
       "      <td>6.078869</td>\n",
       "      <td>5.539674e+01</td>\n",
       "    </tr>\n",
       "    <tr>\n",
       "      <th>min</th>\n",
       "      <td>-54.800000</td>\n",
       "      <td>-179.170000</td>\n",
       "      <td>-11.340000</td>\n",
       "      <td>9.000000</td>\n",
       "      <td>0.000000</td>\n",
       "      <td>0.160000</td>\n",
       "      <td>1.585764e+09</td>\n",
       "    </tr>\n",
       "    <tr>\n",
       "      <th>25%</th>\n",
       "      <td>-8.077500</td>\n",
       "      <td>-64.627500</td>\n",
       "      <td>42.800000</td>\n",
       "      <td>55.000000</td>\n",
       "      <td>20.000000</td>\n",
       "      <td>4.525000</td>\n",
       "      <td>1.585764e+09</td>\n",
       "    </tr>\n",
       "    <tr>\n",
       "      <th>50%</th>\n",
       "      <td>23.630000</td>\n",
       "      <td>19.635000</td>\n",
       "      <td>64.940000</td>\n",
       "      <td>72.000000</td>\n",
       "      <td>57.000000</td>\n",
       "      <td>7.325000</td>\n",
       "      <td>1.585764e+09</td>\n",
       "    </tr>\n",
       "    <tr>\n",
       "      <th>75%</th>\n",
       "      <td>48.672500</td>\n",
       "      <td>97.350000</td>\n",
       "      <td>78.800000</td>\n",
       "      <td>83.000000</td>\n",
       "      <td>86.750000</td>\n",
       "      <td>11.410000</td>\n",
       "      <td>1.585764e+09</td>\n",
       "    </tr>\n",
       "    <tr>\n",
       "      <th>max</th>\n",
       "      <td>78.220000</td>\n",
       "      <td>179.320000</td>\n",
       "      <td>102.200000</td>\n",
       "      <td>100.000000</td>\n",
       "      <td>100.000000</td>\n",
       "      <td>46.080000</td>\n",
       "      <td>1.585764e+09</td>\n",
       "    </tr>\n",
       "  </tbody>\n",
       "</table>\n",
       "</div>"
      ],
      "text/plain": [
       "              Lat         Lng    Max Temp    Humidity  Cloudiness  Wind Speed  \\\n",
       "count  550.000000  550.000000  550.000000  550.000000  550.000000  550.000000   \n",
       "mean    19.973545   17.124400   58.331400   67.890909   52.141818    8.544800   \n",
       "std     33.284840   91.595451   25.795297   20.864881   35.766469    6.078869   \n",
       "min    -54.800000 -179.170000  -11.340000    9.000000    0.000000    0.160000   \n",
       "25%     -8.077500  -64.627500   42.800000   55.000000   20.000000    4.525000   \n",
       "50%     23.630000   19.635000   64.940000   72.000000   57.000000    7.325000   \n",
       "75%     48.672500   97.350000   78.800000   83.000000   86.750000   11.410000   \n",
       "max     78.220000  179.320000  102.200000  100.000000  100.000000   46.080000   \n",
       "\n",
       "               Date  \n",
       "count  5.500000e+02  \n",
       "mean   1.585764e+09  \n",
       "std    5.539674e+01  \n",
       "min    1.585764e+09  \n",
       "25%    1.585764e+09  \n",
       "50%    1.585764e+09  \n",
       "75%    1.585764e+09  \n",
       "max    1.585764e+09  "
      ]
     },
     "execution_count": 6,
     "metadata": {},
     "output_type": "execute_result"
    }
   ],
   "source": []
  },
  {
   "cell_type": "code",
   "execution_count": null,
   "metadata": {},
   "outputs": [],
   "source": [
    "#  Get the indices of cities that have humidity over 100%."
   ]
  },
  {
   "cell_type": "code",
   "execution_count": null,
   "metadata": {},
   "outputs": [],
   "source": [
    "# Make a new DataFrame equal to the city data to drop all humidity outliers by index.\n",
    "# Passing \"inplace=False\" will make a copy of the city_data DataFrame, which we call \"clean_city_data\"."
   ]
  },
  {
   "cell_type": "code",
   "execution_count": null,
   "metadata": {},
   "outputs": [],
   "source": []
  },
  {
   "cell_type": "code",
   "execution_count": null,
   "metadata": {},
   "outputs": [],
   "source": []
  },
  {
   "cell_type": "code",
   "execution_count": 19,
   "metadata": {},
   "outputs": [
    {
     "data": {
      "text/html": [
       "<div>\n",
       "<style scoped>\n",
       "    .dataframe tbody tr th:only-of-type {\n",
       "        vertical-align: middle;\n",
       "    }\n",
       "\n",
       "    .dataframe tbody tr th {\n",
       "        vertical-align: top;\n",
       "    }\n",
       "\n",
       "    .dataframe thead th {\n",
       "        text-align: right;\n",
       "    }\n",
       "</style>\n",
       "<table border=\"1\" class=\"dataframe\">\n",
       "  <thead>\n",
       "    <tr style=\"text-align: right;\">\n",
       "      <th></th>\n",
       "      <th>City</th>\n",
       "      <th>Lat</th>\n",
       "      <th>Lng</th>\n",
       "      <th>Max Temp</th>\n",
       "      <th>Humidity</th>\n",
       "      <th>Cloudiness</th>\n",
       "      <th>Wind Speed</th>\n",
       "      <th>Country</th>\n",
       "      <th>Date</th>\n",
       "    </tr>\n",
       "  </thead>\n",
       "  <tbody>\n",
       "    <tr>\n",
       "      <td>0</td>\n",
       "      <td>butaritari</td>\n",
       "      <td>3.07</td>\n",
       "      <td>172.79</td>\n",
       "      <td>83.32</td>\n",
       "      <td>74</td>\n",
       "      <td>84</td>\n",
       "      <td>10.42</td>\n",
       "      <td>KI</td>\n",
       "      <td>1593605283</td>\n",
       "    </tr>\n",
       "    <tr>\n",
       "      <td>1</td>\n",
       "      <td>yerbogachen</td>\n",
       "      <td>61.28</td>\n",
       "      <td>108.01</td>\n",
       "      <td>79.52</td>\n",
       "      <td>58</td>\n",
       "      <td>20</td>\n",
       "      <td>7.70</td>\n",
       "      <td>RU</td>\n",
       "      <td>1593605121</td>\n",
       "    </tr>\n",
       "    <tr>\n",
       "      <td>2</td>\n",
       "      <td>cape town</td>\n",
       "      <td>-33.93</td>\n",
       "      <td>18.42</td>\n",
       "      <td>73.00</td>\n",
       "      <td>77</td>\n",
       "      <td>27</td>\n",
       "      <td>4.70</td>\n",
       "      <td>ZA</td>\n",
       "      <td>1593605039</td>\n",
       "    </tr>\n",
       "    <tr>\n",
       "      <td>3</td>\n",
       "      <td>touba</td>\n",
       "      <td>8.28</td>\n",
       "      <td>-7.68</td>\n",
       "      <td>79.97</td>\n",
       "      <td>75</td>\n",
       "      <td>82</td>\n",
       "      <td>3.58</td>\n",
       "      <td>CI</td>\n",
       "      <td>1593605284</td>\n",
       "    </tr>\n",
       "    <tr>\n",
       "      <td>4</td>\n",
       "      <td>jamestown</td>\n",
       "      <td>42.10</td>\n",
       "      <td>-79.24</td>\n",
       "      <td>64.00</td>\n",
       "      <td>88</td>\n",
       "      <td>1</td>\n",
       "      <td>6.93</td>\n",
       "      <td>US</td>\n",
       "      <td>1593605284</td>\n",
       "    </tr>\n",
       "  </tbody>\n",
       "</table>\n",
       "</div>"
      ],
      "text/plain": [
       "          City    Lat     Lng  Max Temp  Humidity  Cloudiness  Wind Speed  \\\n",
       "0   butaritari   3.07  172.79     83.32        74          84       10.42   \n",
       "1  yerbogachen  61.28  108.01     79.52        58          20        7.70   \n",
       "2    cape town -33.93   18.42     73.00        77          27        4.70   \n",
       "3        touba   8.28   -7.68     79.97        75          82        3.58   \n",
       "4    jamestown  42.10  -79.24     64.00        88           1        6.93   \n",
       "\n",
       "  Country        Date  \n",
       "0      KI  1593605283  \n",
       "1      RU  1593605121  \n",
       "2      ZA  1593605039  \n",
       "3      CI  1593605284  \n",
       "4      US  1593605284  "
      ]
     },
     "execution_count": 19,
     "metadata": {},
     "output_type": "execute_result"
    }
   ],
   "source": [
    "\n"
   ]
  },
  {
   "cell_type": "code",
   "execution_count": null,
   "metadata": {},
   "outputs": [],
   "source": [
    "\n"
   ]
  },
  {
   "cell_type": "markdown",
   "metadata": {},
   "source": [
    "## Plotting the Data\n",
    "* Use proper labeling of the plots using plot titles (including date of analysis) and axes labels.\n",
    "* Save the plotted figures as .pngs."
   ]
  },
  {
   "cell_type": "markdown",
   "metadata": {},
   "source": [
    "## Latitude vs. Temperature Plot"
   ]
  },
  {
   "cell_type": "code",
   "execution_count": 256,
   "metadata": {
    "scrolled": true
   },
   "outputs": [
    {
     "data": {
      "image/png": "[encoded data removed]",
      "text/plain": [
       "<Figure size 432x288 with 1 Axes>"
      ]
     },
     "metadata": {
      "needs_background": "light"
     },
     "output_type": "display_data"
    }
   ],
   "source": [
    "plt.scatter(weather_df['Lat'],weather_df['Max Temp'], edgecolors=\"black\")\n",
    "plt.title(\"City Latitude vs. Max Temperature 3/1/2021\")\n",
    "plt.ylabel(\"Max Temperature (F)\")\n",
    "plt.xlabel(\"Latitude\")\n",
    "plt.grid()"
   ]
  },
  {
   "cell_type": "code",
   "execution_count": 257,
   "metadata": {},
   "outputs": [],
   "source": [
    "# This scatter plot is showing showing the correlation between a city's latitude and their max temperature.\n",
    "# As a city's latitude gets higher (or the further north you go), the lower maximum temperature it has."
   ]
  },
  {
   "cell_type": "markdown",
   "metadata": {},
   "source": [
    "## Latitude vs. Humidity Plot"
   ]
  },
  {
   "cell_type": "code",
   "execution_count": 262,
   "metadata": {},
   "outputs": [
    {
     "data": {
      "image/png": "[encoded data removed]",
      "text/plain": [
       "<Figure size 432x288 with 1 Axes>"
      ]
     },
     "metadata": {
      "needs_background": "light"
     },
     "output_type": "display_data"
    }
   ],
   "source": [
    "plt.scatter(weather_df['Lat'],weather_df['Humidity'], edgecolors=\"black\")\n",
    "plt.title(\"City Latitude vs. Humidity 3/1/2021\")\n",
    "plt.ylabel(\"Humidity %\")\n",
    "plt.xlabel(\"Latitude\")\n",
    "plt.grid()"
   ]
  },
  {
   "cell_type": "code",
   "execution_count": 263,
   "metadata": {},
   "outputs": [],
   "source": [
    "# This scatter plot is showing the correlation of a city's humidity with it's latitude\n",
    "# Not much correlation"
   ]
  },
  {
   "cell_type": "markdown",
   "metadata": {},
   "source": [
    "## Latitude vs. Cloudiness Plot"
   ]
  },
  {
   "cell_type": "code",
   "execution_count": 264,
   "metadata": {},
   "outputs": [
    {
     "data": {
      "image/png": "[encoded data removed]",
      "text/plain": [
       "<Figure size 432x288 with 1 Axes>"
      ]
     },
     "metadata": {
      "needs_background": "light"
     },
     "output_type": "display_data"
    }
   ],
   "source": [
    "plt.scatter(weather_df['Lat'], weather_df['Cloudiness'], edgecolors=\"black\")\n",
    "plt.title(\"City Latitude vs Cloudiness 3/1/2021\")\n",
    "plt.ylabel(\"Cloudiness (%)\")\n",
    "plt.xlabel(\"Latitude\")\n",
    "plt.grid()"
   ]
  },
  {
   "cell_type": "code",
   "execution_count": 265,
   "metadata": {},
   "outputs": [],
   "source": [
    "#This scatter plot is showing if there is a correlation between how cloudy a city is compared to its latitude.\n",
    "#No correlation"
   ]
  },
  {
   "cell_type": "markdown",
   "metadata": {},
   "source": [
    "## Latitude vs. Wind Speed Plot"
   ]
  },
  {
   "cell_type": "code",
   "execution_count": 266,
   "metadata": {},
   "outputs": [
    {
     "data": {
      "image/png": "[encoded data removed]",
      "text/plain": [
       "<Figure size 432x288 with 1 Axes>"
      ]
     },
     "metadata": {
      "needs_background": "light"
     },
     "output_type": "display_data"
    }
   ],
   "source": [
    "plt.scatter(weather_df['Lat'], weather_df['Wind Speed'], edgecolors=\"black\")\n",
    "plt.title(\"City Latitude vs. Wind Speed 3/1/2021\")\n",
    "plt.ylabel(\"Wind Speed (mph)\")\n",
    "plt.xlabel(\"Latitude\")\n",
    "plt.grid()"
   ]
  },
  {
   "cell_type": "code",
   "execution_count": 267,
   "metadata": {},
   "outputs": [],
   "source": [
    "#This scatter plot is showing the correlation between a city's wind speed compared to it's latitude\n",
    "#no correlation"
   ]
  },
  {
   "cell_type": "markdown",
   "metadata": {},
   "source": [
    "## Linear Regression"
   ]
  },
  {
   "cell_type": "code",
   "execution_count": 335,
   "metadata": {},
   "outputs": [],
   "source": [
    "eq = 0\n",
    "north = weather_df.query(f'Lat >= {eq}')"
   ]
  },
  {
   "cell_type": "markdown",
   "metadata": {},
   "source": [
    "####  Northern Hemisphere - Max Temp vs. Latitude Linear Regression"
   ]
  },
  {
   "cell_type": "code",
   "execution_count": 336,
   "metadata": {},
   "outputs": [
    {
     "data": {
      "text/plain": [
       "3      260.587432\n",
       "4      276.433708\n",
       "5      303.412862\n",
       "6      276.954526\n",
       "7      299.828688\n",
       "          ...    \n",
       "549    288.792369\n",
       "551    267.363953\n",
       "552    280.253140\n",
       "554    286.298295\n",
       "555    273.171350\n",
       "Name: Lat, Length: 378, dtype: float64"
      ]
     },
     "execution_count": 336,
     "metadata": {},
     "output_type": "execute_result"
    }
   ],
   "source": [
    "(slope, intercept, rvalue, pvalue, stderr) = stats.linregress(north['Lat'], north['Max Temp'])\n",
    "regress_values = north['Lat']*slope+intercept\n",
    "regress_values"
   ]
  },
  {
   "cell_type": "code",
   "execution_count": 337,
   "metadata": {},
   "outputs": [
    {
     "data": {
      "text/plain": [
       "'y = -0.74x +307.39'"
      ]
     },
     "execution_count": 337,
     "metadata": {},
     "output_type": "execute_result"
    }
   ],
   "source": [
    "line_eq = \"y = \"+str(round(slope,2)) + \"x +\" + str(round(intercept,2))\n",
    "line_eq"
   ]
  },
  {
   "cell_type": "code",
   "execution_count": 338,
   "metadata": {},
   "outputs": [
    {
     "name": "stdout",
     "output_type": "stream",
     "text": [
      "r-value:-0.852817216736444\n"
     ]
    },
    {
     "data": {
      "image/png": "[encoded data removed]",
      "text/plain": [
       "<Figure size 432x288 with 1 Axes>"
      ]
     },
     "metadata": {
      "needs_background": "light"
     },
     "output_type": "display_data"
    }
   ],
   "source": [
    "plt.scatter(north['Lat'], north['Max Temp'])\n",
    "plt.title(\"Northern Hemisphere - Max Temp vs Latitude\")\n",
    "plt.ylabel(\"Max Temp\")\n",
    "plt.xlabel(\"Latitude\")\n",
    "plt.plot(north['Lat'], regress_values, \"r-\")\n",
    "plt.annotate(line_eq, (0, 240), color = \"red\")\n",
    "print(f'r-value:{rvalue}')"
   ]
  },
  {
   "cell_type": "code",
   "execution_count": 301,
   "metadata": {},
   "outputs": [],
   "source": [
    "#This scatter plot shows the linear regression approach of finding the correlation between the max temp and latitude in the\n",
    "# nothern hemisphere."
   ]
  },
  {
   "cell_type": "code",
   "execution_count": 378,
   "metadata": {},
   "outputs": [],
   "source": [
    "eq = 0\n",
    "south= weather_df.query(f'Lat <= {eq}')"
   ]
  },
  {
   "cell_type": "code",
   "execution_count": 379,
   "metadata": {},
   "outputs": [
    {
     "data": {
      "text/plain": [
       "0      297.123809\n",
       "1      294.078913\n",
       "2      291.122985\n",
       "10     293.953766\n",
       "13     294.069936\n",
       "          ...    \n",
       "539    294.166400\n",
       "542    295.669602\n",
       "543    299.101183\n",
       "550    297.530715\n",
       "553    298.812004\n",
       "Name: Lat, Length: 178, dtype: float64"
      ]
     },
     "execution_count": 379,
     "metadata": {},
     "output_type": "execute_result"
    }
   ],
   "source": [
    "(slope, intercept, rvalue, pvalue, stderr) = stats.linregress(south['Lat'], south['Max Temp'])\n",
    "regress_values = south['Lat']*slope+intercept\n",
    "regress_values"
   ]
  },
  {
   "cell_type": "code",
   "execution_count": 380,
   "metadata": {},
   "outputs": [
    {
     "data": {
      "text/plain": [
       "'y = 0.15x +299.16'"
      ]
     },
     "execution_count": 380,
     "metadata": {},
     "output_type": "execute_result"
    }
   ],
   "source": [
    "line_eq = \"y = \"+str(round(slope,2)) + \"x +\" + str(round(intercept,2))\n",
    "line_eq"
   ]
  },
  {
   "cell_type": "markdown",
   "metadata": {},
   "source": [
    "####  Southern Hemisphere - Max Temp vs. Latitude Linear Regression"
   ]
  },
  {
   "cell_type": "code",
   "execution_count": 381,
   "metadata": {},
   "outputs": [
    {
     "name": "stdout",
     "output_type": "stream",
     "text": [
      "r-value:0.43546856207693496\n"
     ]
    },
    {
     "data": {
      "image/png": "[encoded data removed]",
      "text/plain": [
       "<Figure size 432x288 with 1 Axes>"
      ]
     },
     "metadata": {
      "needs_background": "light"
     },
     "output_type": "display_data"
    }
   ],
   "source": [
    "plt.scatter(south['Lat'], south['Max Temp'])\n",
    "plt.title(\"Northern Hemisphere - Max Temp vs Latitude\")\n",
    "plt.ylabel(\"Max Temp\")\n",
    "plt.xlabel(\"Latitude\")\n",
    "plt.plot(south['Lat'], regress_values, \"r-\")\n",
    "plt.annotate(line_eq, (-50, 305), color = \"red\")\n",
    "print(f'r-value:{rvalue}')"
   ]
  },
  {
   "cell_type": "code",
   "execution_count": null,
   "metadata": {},
   "outputs": [],
   "source": [
    "#This scatter plot shows the linear regression approach of finding the correlation between the max temp and latitude in the\n",
    "# southern hemisphere."
   ]
  },
  {
   "cell_type": "markdown",
   "metadata": {},
   "source": [
    "####  Northern Hemisphere - Humidity (%) vs. Latitude Linear Regression"
   ]
  },
  {
   "cell_type": "code",
   "execution_count": 394,
   "metadata": {},
   "outputs": [],
   "source": [
    "eq = 0\n",
    "north= weather_df.query(f'Lat >= {eq}')\n",
    "(slope, intercept, rvalue, pvalue, stderr) = stats.linregress(north['Lat'], north['Humidity'])\n",
    "regress_values = north['Lat']*slope+intercept"
   ]
  },
  {
   "cell_type": "code",
   "execution_count": 395,
   "metadata": {},
   "outputs": [
    {
     "data": {
      "text/plain": [
       "'y = 0.37x +56.9'"
      ]
     },
     "execution_count": 395,
     "metadata": {},
     "output_type": "execute_result"
    }
   ],
   "source": [
    "line_eq = \"y = \"+str(round(slope,2)) + \"x +\" + str(round(intercept,2))\n",
    "line_eq"
   ]
  },
  {
   "cell_type": "code",
   "execution_count": 397,
   "metadata": {},
   "outputs": [
    {
     "name": "stdout",
     "output_type": "stream",
     "text": [
      "r-value:0.31980769128217\n"
     ]
    },
    {
     "data": {
      "image/png": "[encoded data removed]",
      "text/plain": [
       "<Figure size 432x288 with 1 Axes>"
      ]
     },
     "metadata": {
      "needs_background": "light"
     },
     "output_type": "display_data"
    }
   ],
   "source": [
    "plt.scatter(north['Lat'], north['Humidity'])\n",
    "plt.title(\"Northern Hemisphere - Humidity (%) vs Latitude\")\n",
    "plt.ylabel(\"Humidity (%)\")\n",
    "plt.xlabel(\"Latitude\")\n",
    "plt.plot(north['Lat'], regress_values, \"r-\")\n",
    "plt.annotate(line_eq, (0, 5), color = \"red\")\n",
    "print(f'r-value:{rvalue}')"
   ]
  },
  {
   "cell_type": "code",
   "execution_count": null,
   "metadata": {},
   "outputs": [],
   "source": [
    "#This scatter plot shows the linear regression between humidity and latitude in the northern hemisphere.\n",
    "#There is not a great correlation."
   ]
  },
  {
   "cell_type": "markdown",
   "metadata": {},
   "source": [
    "####  Southern Hemisphere - Humidity (%) vs. Latitude Linear Regression"
   ]
  },
  {
   "cell_type": "code",
   "execution_count": 391,
   "metadata": {},
   "outputs": [],
   "source": [
    "eq = 0\n",
    "south= weather_df.query(f'Lat <= {eq}')\n",
    "(slope, intercept, rvalue, pvalue, stderr) = stats.linregress(south['Lat'], south['Humidity'])\n",
    "regress_values = south['Lat']*slope+intercept"
   ]
  },
  {
   "cell_type": "code",
   "execution_count": 392,
   "metadata": {},
   "outputs": [
    {
     "data": {
      "text/plain": [
       "'y = 0.47x +86.72'"
      ]
     },
     "execution_count": 392,
     "metadata": {},
     "output_type": "execute_result"
    }
   ],
   "source": [
    "line_eq = \"y = \"+str(round(slope,2)) + \"x +\" + str(round(intercept,2))\n",
    "line_eq"
   ]
  },
  {
   "cell_type": "code",
   "execution_count": 393,
   "metadata": {},
   "outputs": [
    {
     "name": "stdout",
     "output_type": "stream",
     "text": [
      "r-value:0.3892526033552767\n"
     ]
    },
    {
     "data": {
      "image/png": "[encoded data removed]",
      "text/plain": [
       "<Figure size 432x288 with 1 Axes>"
      ]
     },
     "metadata": {
      "needs_background": "light"
     },
     "output_type": "display_data"
    }
   ],
   "source": [
    "plt.scatter(south['Lat'], south['Humidity'])\n",
    "plt.title(\"Southern Hemisphere - Humidity (%) vs Latitude\")\n",
    "plt.ylabel(\"Humidity (%)\")\n",
    "plt.xlabel(\"Latitude\")\n",
    "plt.plot(south['Lat'], regress_values, \"r-\")\n",
    "plt.annotate(line_eq, (60, -60), color = \"red\")\n",
    "print(f'r-value:{rvalue}')"
   ]
  },
  {
   "cell_type": "code",
   "execution_count": 354,
   "metadata": {},
   "outputs": [],
   "source": [
    "#This scatter plot shows the linear regression between humidity and latitude in the southern hemisphere.\n",
    "#There is not a great correlation."
   ]
  },
  {
   "cell_type": "markdown",
   "metadata": {},
   "source": [
    "####  Northern Hemisphere - Cloudiness (%) vs. Latitude Linear Regression"
   ]
  },
  {
   "cell_type": "code",
   "execution_count": 398,
   "metadata": {},
   "outputs": [],
   "source": [
    "eq = 0\n",
    "north= weather_df.query(f'Lat >= {eq}')\n",
    "(slope, intercept, rvalue, pvalue, stderr) = stats.linregress(north['Lat'], north['Cloudiness'])\n",
    "regress_values = north['Lat']*slope+intercept"
   ]
  },
  {
   "cell_type": "code",
   "execution_count": 400,
   "metadata": {},
   "outputs": [
    {
     "name": "stdout",
     "output_type": "stream",
     "text": [
      "r-value:0.332961225419983\n"
     ]
    },
    {
     "data": {
      "image/png": "[encoded data removed]",
      "text/plain": [
       "<Figure size 432x288 with 1 Axes>"
      ]
     },
     "metadata": {
      "needs_background": "light"
     },
     "output_type": "display_data"
    }
   ],
   "source": [
    "plt.scatter(north['Lat'], north['Cloudiness'])\n",
    "plt.title(\"Northern Hemisphere - Cloudiness vs Latitude\")\n",
    "plt.ylabel(\"Cloudiness\")\n",
    "plt.xlabel(\"Latitude\")\n",
    "plt.plot(north['Lat'], regress_values, \"r-\")\n",
    "plt.annotate(line_eq, (60, 45), color = \"red\")\n",
    "print(f'r-value:{rvalue}')"
   ]
  },
  {
   "cell_type": "code",
   "execution_count": 357,
   "metadata": {},
   "outputs": [],
   "source": [
    "#This scatter plot shows the linear regression between cloudinessand latitude in the northern hemisphere.\n",
    "#There is not a great correlation."
   ]
  },
  {
   "cell_type": "markdown",
   "metadata": {},
   "source": [
    "####  Southern Hemisphere - Cloudiness (%) vs. Latitude Linear Regression"
   ]
  },
  {
   "cell_type": "code",
   "execution_count": 401,
   "metadata": {},
   "outputs": [],
   "source": [
    "eq = 0\n",
    "south= weather_df.query(f'Lat <= {eq}')\n",
    "(slope, intercept, rvalue, pvalue, stderr) = stats.linregress(south['Lat'], south['Cloudiness'])\n",
    "regress_values = south['Lat']*slope+intercept"
   ]
  },
  {
   "cell_type": "code",
   "execution_count": 406,
   "metadata": {},
   "outputs": [
    {
     "name": "stdout",
     "output_type": "stream",
     "text": [
      "r-value:0.33940485905267936\n"
     ]
    },
    {
     "data": {
      "image/png": "[encoded data removed]",
      "text/plain": [
       "<Figure size 432x288 with 1 Axes>"
      ]
     },
     "metadata": {
      "needs_background": "light"
     },
     "output_type": "display_data"
    }
   ],
   "source": [
    "plt.scatter(south['Lat'], south['Cloudiness'])\n",
    "plt.title(\"Southern Hemisphere - Cloudiness vs Latitude\")\n",
    "plt.ylabel(\"Cloudiness\")\n",
    "plt.xlabel(\"Latitude\")\n",
    "plt.plot(south['Lat'], regress_values, \"r-\")\n",
    "plt.annotate(line_eq, (-55, 10), color = \"red\")\n",
    "print(f'r-value:{rvalue}')"
   ]
  },
  {
   "cell_type": "code",
   "execution_count": 363,
   "metadata": {},
   "outputs": [],
   "source": [
    "#This scatter plot shows the linear regression between cloudinessand latitude in the southern hemisphere.\n",
    "#There is not a great correlation."
   ]
  },
  {
   "cell_type": "markdown",
   "metadata": {},
   "source": [
    "####  Northern Hemisphere - Wind Speed (mph) vs. Latitude Linear Regression"
   ]
  },
  {
   "cell_type": "code",
   "execution_count": 407,
   "metadata": {},
   "outputs": [],
   "source": [
    "eq = 0\n",
    "north= weather_df.query(f'Lat >= {eq}')\n",
    "(slope, intercept, rvalue, pvalue, stderr) = stats.linregress(north['Lat'], north['Wind Speed'])\n",
    "regress_values = north['Lat']*slope+intercept"
   ]
  },
  {
   "cell_type": "code",
   "execution_count": 409,
   "metadata": {
    "scrolled": true
   },
   "outputs": [
    {
     "name": "stdout",
     "output_type": "stream",
     "text": [
      "r-value:0.07083866381013336\n"
     ]
    },
    {
     "data": {
      "image/png": "[encoded data removed]",
      "text/plain": [
       "<Figure size 432x288 with 1 Axes>"
      ]
     },
     "metadata": {
      "needs_background": "light"
     },
     "output_type": "display_data"
    }
   ],
   "source": [
    "plt.scatter(north['Lat'], north['Wind Speed'])\n",
    "plt.title(\"Northern Hemisphere - Wind Speed (mph) vs Latitude\")\n",
    "plt.ylabel(\"Wind Speed\")\n",
    "plt.xlabel(\"Latitude\")\n",
    "plt.plot(north['Lat'], regress_values, \"r-\")\n",
    "plt.annotate(line_eq, (10, 12), color = \"red\")\n",
    "print(f'r-value:{rvalue}')"
   ]
  },
  {
   "cell_type": "code",
   "execution_count": 410,
   "metadata": {},
   "outputs": [],
   "source": [
    "#This scatter plot shows the linear regression between wind speed and latitude in the northern hemisphere.\n",
    "#There is not a great correlation."
   ]
  },
  {
   "cell_type": "markdown",
   "metadata": {},
   "source": [
    "####  Southern Hemisphere - Wind Speed (mph) vs. Latitude Linear Regression"
   ]
  },
  {
   "cell_type": "code",
   "execution_count": 411,
   "metadata": {},
   "outputs": [],
   "source": [
    "eq = 0\n",
    "south= weather_df.query(f'Lat <= {eq}')\n",
    "(slope, intercept, rvalue, pvalue, stderr) = stats.linregress(south['Lat'], south['Wind Speed'])\n",
    "regress_values = south['Lat']*slope+intercept"
   ]
  },
  {
   "cell_type": "code",
   "execution_count": 413,
   "metadata": {},
   "outputs": [
    {
     "name": "stdout",
     "output_type": "stream",
     "text": [
      "r-value:-0.3137672990934408\n"
     ]
    },
    {
     "data": {
      "image/png": "[encoded data removed]",
      "text/plain": [
       "<Figure size 432x288 with 1 Axes>"
      ]
     },
     "metadata": {
      "needs_background": "light"
     },
     "output_type": "display_data"
    }
   ],
   "source": [
    "plt.scatter(south['Lat'], south['Wind Speed'])\n",
    "plt.title(\"Southern Hemisphere - Wind Speed vs Latitude\")\n",
    "plt.ylabel(\"Wind speed\")\n",
    "plt.xlabel(\"Latitude\")\n",
    "plt.plot(south['Lat'], regress_values, \"r-\")\n",
    "plt.annotate(line_eq, (-55, 8), color = \"red\")\n",
    "print(f'r-value:{rvalue}')"
   ]
  },
  {
   "cell_type": "code",
   "execution_count": null,
   "metadata": {},
   "outputs": [],
   "source": [
    "#This scatter plot shows the linear regression between wind speed and latitude in the southern hemisphere.\n",
    "#There is not a great correlation."
   ]
  }
 ],
 "metadata": {
  "anaconda-cloud": {},
  "kernel_info": {
   "name": "python3"
  },
  "kernelspec": {
   "display_name": "Python 3",
   "language": "python",
   "name": "python3"
  },
  "language_info": {
   "codemirror_mode": {
    "name": "ipython",
    "version": 3
   },
   "file_extension": ".py",
   "mimetype": "text/x-python",
   "name": "python",
   "nbconvert_exporter": "python",
   "pygments_lexer": "ipython3",
   "version": "3.6.12"
  },
  "latex_envs": {
   "LaTeX_envs_menu_present": true,
   "autoclose": false,
   "autocomplete": true,
   "bibliofile": "biblio.bib",
   "cite_by": "apalike",
   "current_citInitial": 1,
   "eqLabelWithNumbers": true,
   "eqNumInitial": 1,
   "hotkeys": {
    "equation": "Ctrl-E",
    "itemize": "Ctrl-I"
   },
   "labels_anchors": false,
   "latex_user_defs": false,
   "report_style_numbering": false,
   "user_envs_cfg": false
  },
  "nteract": {
   "version": "0.12.3"
  }
 },
 "nbformat": 4,
 "nbformat_minor": 2
}
